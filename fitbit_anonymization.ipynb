{
 "cells": [
  {
   "cell_type": "code",
   "execution_count": 1,
   "metadata": {
    "collapsed": true,
    "pycharm": {
     "name": "#%%\n"
    }
   },
   "outputs": [],
   "source": [
    "#Load Database in Pymongo\n",
    "\n",
    "import pymongo\n",
    "\n",
    "client = pymongo.MongoClient(\"localhost\", 27017)\n",
    "database = client['rais_anonymized']\n",
    "collection = database['fitbit']"
   ]
  },
  {
   "cell_type": "code",
   "execution_count": null,
   "outputs": [],
   "source": [
    "#--------------------------------------------------------------------------------------------------------\n",
    "\n",
    "#(i) Editing Type=Profile\n",
    "\n",
    "#remove red fields as in the document\n",
    "#1. full_name\n",
    "#2. first_name\n",
    "#3. last_name\n",
    "#4. display_name\n",
    "#5. display_name_setting\n",
    "#6. username\n",
    "#7. email_address\n",
    "#8. timezone\n",
    "#9. locale\n",
    "#10. about_me\n",
    "#\n",
    "# add\n",
    "#1.bmi\n",
    "\n",
    "myquery = {\"type\": \"Profile\"}\n",
    "newvalues = [\n",
    "    {\"$set\": {\"data.bmi\":{ \"$round\" : [ { \"$divide\" :\n",
    "                [ \"$data.weight\", { \"$multiply\" : [ \"$data.height\", \"$data.height\", 0.0001 ]} ]} ]} } },\n",
    "    { \"$unset\": [\"data.full_name\", \"data.first_name\", \"data.last_name\", \"data.display_name\",\n",
    "                          \"data.display_name_setting\", \"data.username\", \"data.email_address\",\n",
    "                         \"data.timezone\", \"data.locale\", \"data.about_me\"]}\n",
    "            ]\n",
    "x = collection.update_many(myquery, newvalues)"
   ],
   "metadata": {
    "collapsed": false,
    "pycharm": {
     "name": "#%%\n"
    }
   }
  },
  {
   "cell_type": "code",
   "execution_count": null,
   "outputs": [],
   "source": [
    "\n",
    "# remove other fields\n",
    "#1. id\n",
    "#2. country\n",
    "#3. state\n",
    "#4. city\n",
    "#5. height\n",
    "#6. weight\n",
    "#7. stride_length_walking\n",
    "#8. stride_length_running\n",
    "\n",
    "myquery = {\"type\": \"Profile\"}\n",
    "newvalues = [{ \"$unset\": [\"data.id\", \"data.country\", \"data.state\", \"data.city\", \"data.height\", \"data.weight\", \"data.stride_length_walking\", \"data.stride_length_running\"]}]\n",
    "x = collection.update_many(myquery, newvalues)"
   ],
   "metadata": {
    "collapsed": false,
    "pycharm": {
     "name": "#%%\n"
    }
   }
  },
  {
   "cell_type": "code",
   "execution_count": null,
   "outputs": [],
   "source": [
    "\n",
    "#Convert extreme bmi to ranges\n",
    "myquery = {\"type\": \"Profile\", \"data.gender\": \"MALE\", \"data.bmi\":{\"$gte\":30}}\n",
    "newvalues = [{\"$set\" : {\"data.bmi\":\">=30\"}}]\n",
    "x = collection.update_many(myquery, newvalues)"
   ],
   "metadata": {
    "collapsed": false,
    "pycharm": {
     "name": "#%%\n"
    }
   }
  },
  {
   "cell_type": "code",
   "execution_count": null,
   "outputs": [],
   "source": [
    "\n",
    "myquery = {\"type\": \"Profile\", \"data.gender\": \"FEMALE\", \"data.bmi\":{\"$gte\":25}}\n",
    "newvalues = [{\"$set\" : {\"data.bmi\":\">=25\"}}]\n",
    "x = collection.update_many(myquery, newvalues)"
   ],
   "metadata": {
    "collapsed": false,
    "pycharm": {
     "name": "#%%\n"
    }
   }
  },
  {
   "cell_type": "code",
   "execution_count": null,
   "outputs": [],
   "source": [
    "\n",
    "myquery = {\"type\": \"Profile\", \"data.bmi\":{\"$lt\":19}}\n",
    "newvalues = [{\"$set\" : {\"data.bmi\":\"<19\"}}]\n",
    "x = collection.update_many(myquery, newvalues)\n"
   ],
   "metadata": {
    "collapsed": false,
    "pycharm": {
     "name": "#%%\n"
    }
   }
  },
  {
   "cell_type": "code",
   "execution_count": null,
   "outputs": [],
   "source": [
    "\n",
    "# convert date_of_birth to ages\n",
    "from datetime import datetime\n",
    "experiment_date = datetime(2021,5,24)\n",
    "myquery = {\"type\": \"Profile\"}\n",
    "newvalues = [{\"$set\" : {\"data.age\": {\"$floor\":[{ \"$divide\": [ { \"$subtract\":\n",
    "            [experiment_date, {\"$toDate\":\"$data.date_of_birth\"} ] }, 1000*3600*24*365.2425] }] } }}]\n",
    "x = collection.update_many(myquery, newvalues)"
   ],
   "metadata": {
    "collapsed": false,
    "pycharm": {
     "name": "#%%\n"
    }
   }
  },
  {
   "cell_type": "code",
   "execution_count": null,
   "outputs": [],
   "source": [
    "\n",
    "## convert age to ranges\n",
    "myquery = {\"type\": \"Profile\", \"data.age\":{\"$lt\":30}}\n",
    "newvalues = [{\"$set\" : {\"data.age\":\"<30\"}}]\n",
    "x = collection.update_many(myquery, newvalues)\n",
    "\n",
    "myquery = {\"type\": \"Profile\", \"data.age\":{\"$gte\":30}}\n",
    "newvalues = [{\"$set\" : {\"data.age\":\">=30\"}}]\n",
    "x = collection.update_many(myquery, newvalues)"
   ],
   "metadata": {
    "collapsed": false,
    "pycharm": {
     "name": "#%%\n"
    }
   }
  },
  {
   "cell_type": "code",
   "execution_count": null,
   "outputs": [],
   "source": [
    "\n",
    "#remove\n",
    "#1. date_of_birth\n",
    "#2. member_since\n",
    "\n",
    "myquery = {\"type\": \"Profile\"}\n",
    "newvalues = [{ \"$unset\": [\"data.date_of_birth\", \"data.member_since\"]}]\n",
    "x = collection.update_many(myquery, newvalues)"
   ],
   "metadata": {
    "collapsed": false,
    "pycharm": {
     "name": "#%%\n"
    }
   }
  },
  {
   "cell_type": "code",
   "execution_count": null,
   "outputs": [],
   "source": [
    "\n",
    "#--------------------------------------------------------------------------------------------------------\n",
    "\n",
    "#(ii) Editing Type=journal_entries\n",
    "\n",
    "# remove\n",
    "# 1. zone_offset\n",
    "\n",
    "myquery = {\"type\": \"journal_entries\"}\n",
    "newvalues = [\n",
    "    { \"$unset\": [\"data.zone_offset\"]}\n",
    "            ]\n",
    "\n",
    "x = collection.update_many(myquery, newvalues)\n"
   ],
   "metadata": {
    "collapsed": false,
    "pycharm": {
     "name": "#%%\n"
    }
   }
  },
  {
   "cell_type": "code",
   "execution_count": null,
   "outputs": [],
   "source": [
    "\n",
    "#--------------------------------------------------------------------------------------------------------\n",
    "\n",
    "#(iii) Editing Type=mindfulness_sessions\n",
    "\n",
    "#remove time zone difference\n",
    "\n",
    "myquery = {\"type\": \"mindfulness_sessions\"}\n",
    "newvalues = [{\"$set\" : {\"data.start_date_time\":{\"$substr\":[ \"$data.start_date_time\", 0,\n",
    "                                               { \"$add\": [ { \"$strLenCP\": \"$data.start_date_time\" }, -6 ] } ]} }},\n",
    "            {\"$set\" : {\"data.end_date_time\":{\"$substr\":[ \"$data.end_date_time\", 0,\n",
    "                                               { \"$add\": [ { \"$strLenCP\": \"$data.end_date_time\" }, -6 ] } ]} }}]\n",
    "\n",
    "x = collection.update_many(myquery, newvalues)\n"
   ],
   "metadata": {
    "collapsed": false,
    "pycharm": {
     "name": "#%%\n"
    }
   }
  },
  {
   "cell_type": "code",
   "execution_count": null,
   "outputs": [],
   "source": [
    "\n",
    "#--------------------------------------------------------------------------------------------------------\n",
    "\n",
    "#(iv) Editing Type=badge\n",
    "\n",
    "#remove a single GOAL_BASED_WEIGHT_LOSS_ACHIEVEMENT\n",
    "\n",
    "myquery = {\"type\":\"badge\",\"data.encodedId\":'22984Z'}\n",
    "x = collection.delete_many(myquery)"
   ],
   "metadata": {
    "collapsed": false,
    "pycharm": {
     "name": "#%%\n"
    }
   }
  },
  {
   "cell_type": "code",
   "execution_count": null,
   "outputs": [],
   "source": [
    "\n",
    "#add\n",
    "#1. badge\n",
    "\n",
    "# myquery = {\"type\":\"badge\"}\n",
    "# newvalues = [{\"$set\" : {\"data.badge\":{\"$concat\":[ \"$data.badgeType\",\"=\", { \"$toString\": \"$data.value\" } ]} }}]\n",
    "# x = collection.update_many(myquery, newvalues)"
   ],
   "metadata": {
    "collapsed": false,
    "pycharm": {
     "name": "#%%\n"
    }
   }
  },
  {
   "cell_type": "code",
   "execution_count": null,
   "outputs": [],
   "source": [
    "\n",
    "#remove\n",
    "#1. encodedId\n",
    "#2. timesAchieved\n",
    "#3. name\n",
    "#4. shortName\n",
    "#5. earnedMessage\n",
    "#6. description\n",
    "#7. category\n",
    "#8. shareText\n",
    "\n",
    "myquery = {\"type\": \"badge\"}\n",
    "newvalues = [{ \"$unset\": [\"data.encodedId\", \"data.timesAchieved\", \"data.name\", \"data.shortName\",\n",
    "\t\t\t\t\"data.earnedMessage\", \"data.description\", \"data.category\", \"data.shareText\"]}]\n",
    "x = collection.update_many(myquery, newvalues)"
   ],
   "metadata": {
    "collapsed": false,
    "pycharm": {
     "name": "#%%\n"
    }
   }
  },
  {
   "cell_type": "code",
   "execution_count": 2,
   "outputs": [],
   "source": [
    "\n",
    "#--------------------------------------------------------------------------------------------------------\n",
    "\n",
    "#(v) Editing Type=execise\n",
    "# Example: 629718672c3a162f67928676\n",
    "\n",
    "ACTIVITIES = {\n",
    "    90013: \"Walk\",\n",
    "    15000: \"Sport\",\n",
    "    3001: \"Aerobic Workout\",\n",
    "    52000: \"Yoga/Pilates\",\n",
    "    90024: \"Swim\",\n",
    "    90001: \"Bike\",\n",
    "    20047: \"Elliptical\",\n",
    "    2131: \"Weights\",\n",
    "    55001: \"Spinning\",\n",
    "    1071: \"Bike\",\n",
    "    90009: \"Run\",\n",
    "    20049: \"Treadmill\",\n",
    "    53000: \"Yoga/Pilates\",\n",
    "    55002: \"Martial Arts\",\n",
    "    2040: \"Circuit Training\",\n",
    "    2065: \"Stairclimber\",\n",
    "    3000: \"Workout\",\n",
    "    90012: \"Hike\",\n",
    "    12339646: \"Run\",\n",
    "    12350445: \"Walk\",\n",
    "    23418750: \"Swim\",\n",
    "    55003: \"Bootcamp\",\n",
    "    15430: \"Martial Arts\",\n",
    "    20057: \"Interval Workout\",\n",
    "    15675: \"Tennis\",\n",
    "    61980497: \"Workout\"\n",
    "}\n"
   ],
   "metadata": {
    "collapsed": false,
    "pycharm": {
     "name": "#%%\n"
    }
   }
  },
  {
   "cell_type": "code",
   "execution_count": 3,
   "outputs": [
    {
     "name": "stdout",
     "output_type": "stream",
     "text": [
      "{'n': 2900, 'nModified': 688, 'ok': 1.0, 'updatedExisting': True}\n",
      "{'n': 170, 'nModified': 1, 'ok': 1.0, 'updatedExisting': True}\n",
      "{'n': 141, 'nModified': 4, 'ok': 1.0, 'updatedExisting': True}\n",
      "{'n': 5, 'nModified': 5, 'ok': 1.0, 'updatedExisting': True}\n",
      "{'n': 65, 'nModified': 22, 'ok': 1.0, 'updatedExisting': True}\n",
      "{'n': 91, 'nModified': 7, 'ok': 1.0, 'updatedExisting': True}\n",
      "{'n': 14, 'nModified': 2, 'ok': 1.0, 'updatedExisting': True}\n",
      "{'n': 44, 'nModified': 0, 'ok': 1.0, 'updatedExisting': True}\n",
      "{'n': 3, 'nModified': 0, 'ok': 1.0, 'updatedExisting': True}\n",
      "{'n': 164, 'nModified': 164, 'ok': 1.0, 'updatedExisting': True}\n",
      "{'n': 127, 'nModified': 45, 'ok': 1.0, 'updatedExisting': True}\n",
      "{'n': 37, 'nModified': 0, 'ok': 1.0, 'updatedExisting': True}\n",
      "{'n': 47, 'nModified': 47, 'ok': 1.0, 'updatedExisting': True}\n",
      "{'n': 1, 'nModified': 1, 'ok': 1.0, 'updatedExisting': True}\n",
      "{'n': 37, 'nModified': 21, 'ok': 1.0, 'updatedExisting': True}\n",
      "{'n': 0, 'nModified': 0, 'ok': 1.0, 'updatedExisting': False}\n",
      "{'n': 178, 'nModified': 19, 'ok': 1.0, 'updatedExisting': True}\n",
      "{'n': 13, 'nModified': 2, 'ok': 1.0, 'updatedExisting': True}\n",
      "{'n': 0, 'nModified': 0, 'ok': 1.0, 'updatedExisting': False}\n",
      "{'n': 0, 'nModified': 0, 'ok': 1.0, 'updatedExisting': False}\n",
      "{'n': 0, 'nModified': 0, 'ok': 1.0, 'updatedExisting': False}\n",
      "{'n': 2, 'nModified': 0, 'ok': 1.0, 'updatedExisting': True}\n",
      "{'n': 5, 'nModified': 5, 'ok': 1.0, 'updatedExisting': True}\n",
      "{'n': 5, 'nModified': 3, 'ok': 1.0, 'updatedExisting': True}\n",
      "{'n': 2, 'nModified': 0, 'ok': 1.0, 'updatedExisting': True}\n",
      "{'n': 0, 'nModified': 0, 'ok': 1.0, 'updatedExisting': False}\n"
     ]
    }
   ],
   "source": [
    "for activity_id, activity_name in ACTIVITIES.items():\n",
    "    myquery = {\"type\": \"exercise\", \"data.activityTypeId\": activity_id}\n",
    "    newvalue = [{\"$set\": {\"data.activityName\": activity_name}}]\n",
    "    x = collection.update_many(myquery, newvalue)\n",
    "    print(x.raw_result)"
   ],
   "metadata": {
    "collapsed": false,
    "pycharm": {
     "name": "#%%\n"
    }
   }
  },
  {
   "cell_type": "code",
   "execution_count": null,
   "outputs": [],
   "source": [
    "\n",
    "#--------------------------------------------------------------------------------------------------------\n",
    "#\n",
    "#remove data outside of the experiment duration\n",
    "#\n",
    "\n",
    "from datetime import datetime\n",
    "from_date = datetime(2021,5,24)\n",
    "to_date = datetime(2022,1,22)\n",
    "\n",
    "#1.log_time\n",
    "#convert log_time to date\n",
    "myquery = {\"data.log_time\":{\"$exists\": \"true\"}}\n",
    "newvalues = [{\"$set\" : {\"data.testdate\":{\"$toDate\":\"$data.log_time\"}}}]\n",
    "x = collection.update_many(myquery, newvalues)"
   ],
   "metadata": {
    "collapsed": false,
    "pycharm": {
     "name": "#%%\n"
    }
   }
  },
  {
   "cell_type": "code",
   "execution_count": null,
   "outputs": [],
   "source": [
    "\n",
    "#delete entries outside of experiment dates\n",
    "myquery = {\"$or\": [\n",
    "      {\"data.log_time\":{\"$exists\": \"true\"}, \"data.testdate\": {\"$lt\":from_date} },\n",
    "      { \"data.log_time\":{\"$exists\": \"true\"}, \"data.testdate\": {\"$gt\":to_date } }\n",
    "   ]}\n",
    "x = collection.delete_many(myquery)"
   ],
   "metadata": {
    "collapsed": false,
    "pycharm": {
     "name": "#%%\n"
    }
   }
  },
  {
   "cell_type": "code",
   "execution_count": null,
   "outputs": [],
   "source": [
    "\n",
    "#delete the previously added date fields\n",
    "myquery = {\"data.log_time\":{\"$exists\": \"true\"}}\n",
    "newvalues = [{\"$unset\" : [\"data.testdate\"]}]\n",
    "x = collection.update_many(myquery, newvalues)"
   ],
   "metadata": {
    "collapsed": false,
    "pycharm": {
     "name": "#%%\n"
    }
   }
  },
  {
   "cell_type": "code",
   "execution_count": null,
   "outputs": [],
   "source": [
    "\n",
    "#2.dateTime\n",
    "#convert datetime to date\n",
    "myquery = {\"data.dateTime\":{\"$exists\": \"true\"}}\n",
    "\n",
    "newvalues = [{\"$set\" : {\"data.testdate\":{\"$toDate\":\"$data.dateTime\"}}}]\n",
    "x = collection.update_many(myquery, newvalues)"
   ],
   "metadata": {
    "collapsed": false,
    "pycharm": {
     "name": "#%%\n"
    }
   }
  },
  {
   "cell_type": "code",
   "execution_count": null,
   "outputs": [],
   "source": [
    "\n",
    "#delete entries outside of experiment dates\n",
    "myquery = {\"$or\": [\n",
    "      {\"data.dateTime\":{\"$exists\": \"true\"}, \"data.testdate\": {\"$lt\":from_date} },\n",
    "      { \"data.dateTime\":{\"$exists\": \"true\"}, \"data.testdate\": {\"$gt\":to_date } }\n",
    "   ]}\n",
    "x = collection.delete_many(myquery)"
   ],
   "metadata": {
    "collapsed": false,
    "pycharm": {
     "name": "#%%\n"
    }
   }
  },
  {
   "cell_type": "code",
   "execution_count": null,
   "outputs": [],
   "source": [
    "\n",
    "#delete the previously added date fields\n",
    "myquery = {\"data.dateTime\":{\"$exists\": \"true\"}}\n",
    "newvalues = [{\"$unset\" : [\"data.testdate\"]}]\n",
    "x = collection.update_many(myquery, newvalues)"
   ],
   "metadata": {
    "collapsed": false,
    "pycharm": {
     "name": "#%%\n"
    }
   }
  },
  {
   "cell_type": "code",
   "execution_count": null,
   "outputs": [],
   "source": [
    "\n",
    "#3.startTime\n",
    "#convert startTime to date\n",
    "myquery = {\"data.startTime\":{\"$exists\": \"true\"}}\n",
    "\n",
    "newvalues = [{\"$set\" : {\"data.testdate\":{\"$toDate\":\"$data.startTime\"}}}]\n",
    "x = collection.update_many(myquery, newvalues)"
   ],
   "metadata": {
    "collapsed": false,
    "pycharm": {
     "name": "#%%\n"
    }
   }
  },
  {
   "cell_type": "code",
   "execution_count": null,
   "outputs": [],
   "source": [
    "\n",
    "#delete entries outside of experiment dates\n",
    "myquery = {\"$or\": [\n",
    "      {\"data.startTime\":{\"$exists\": \"true\"}, \"data.testdate\": {\"$lt\":from_date} },\n",
    "      { \"data.startTime\":{\"$exists\": \"true\"}, \"data.testdate\": {\"$gt\":to_date } }\n",
    "   ]}\n",
    "x = collection.delete_many(myquery)"
   ],
   "metadata": {
    "collapsed": false,
    "pycharm": {
     "name": "#%%\n"
    }
   }
  },
  {
   "cell_type": "code",
   "execution_count": null,
   "outputs": [],
   "source": [
    "\n",
    "#delete the previously added date fields\n",
    "myquery = {\"data.startTime\":{\"$exists\": \"true\"}}\n",
    "newvalues = [{\"$unset\" : [\"data.testdate\"]}]\n",
    "x = collection.update_many(myquery, newvalues)"
   ],
   "metadata": {
    "collapsed": false,
    "pycharm": {
     "name": "#%%\n"
    }
   }
  },
  {
   "cell_type": "code",
   "execution_count": null,
   "outputs": [],
   "source": [
    "\n",
    "#4.timestamp\n",
    "#convert timestamp to date\n",
    "#4.1. the milliseconds entries\n",
    "myquery = {\"data.timestamp\":{\"$exists\": \"true\"}, \"data.timestamp\":{\"$type\":[16]}}\n",
    "newvalues = [{\"$set\" : {\"data.testdate\":{\"$toDate\": { \"$multiply\": [{\"$toDouble\":\"$data.timestamp\"},1000 ] }}}}]\n",
    "\n",
    "x = collection.update_many(myquery, newvalues)"
   ],
   "metadata": {
    "collapsed": false,
    "pycharm": {
     "name": "#%%\n"
    }
   }
  },
  {
   "cell_type": "code",
   "execution_count": null,
   "outputs": [],
   "source": [
    "\n",
    "#4.2 the string entries\n",
    "myquery = {\"data.timestamp\":{\"$exists\": \"true\"}, \"data.timestamp\":{\"$type\":[2]}}\n",
    "newvalues = [{\"$set\" : {\"data.testdate\":{\"$toDate\":\"$data.timestamp\" }}}]\n",
    "\n",
    "x = collection.update_many(myquery, newvalues)"
   ],
   "metadata": {
    "collapsed": false,
    "pycharm": {
     "name": "#%%\n"
    }
   }
  },
  {
   "cell_type": "code",
   "execution_count": null,
   "outputs": [],
   "source": [
    "\n",
    "#delete entries outside of experiment dates\n",
    "myquery = {\"$or\": [\n",
    "      {\"data.timestamp\":{\"$exists\": \"true\"}, \"data.testdate\": {\"$lt\":from_date} },\n",
    "      { \"data.timestamp\":{\"$exists\": \"true\"}, \"data.testdate\": {\"$gt\":to_date } }\n",
    "   ]}\n",
    "x = collection.delete_many(myquery)"
   ],
   "metadata": {
    "collapsed": false,
    "pycharm": {
     "name": "#%%\n"
    }
   }
  },
  {
   "cell_type": "code",
   "execution_count": null,
   "outputs": [],
   "source": [
    "\n",
    "#delete the previously added date fields\n",
    "myquery = {\"data.timestamp\":{\"$exists\": \"true\"}}\n",
    "newvalues = [{\"$unset\" : [\"data.testdate\"]}]\n",
    "x = collection.update_many(myquery, newvalues)"
   ],
   "metadata": {
    "collapsed": false,
    "pycharm": {
     "name": "#%%\n"
    }
   }
  },
  {
   "cell_type": "code",
   "execution_count": null,
   "outputs": [],
   "source": [
    "\n",
    "#--------------------------------------------------------------------------------------------------------\n",
    "\n",
    "#modify a duplicate entry\n",
    "\n",
    "from bson.objectid import ObjectId\n",
    "myquery = {\"type\": \"Profile\", \"id\":ObjectId(\"621e367e67b776a24087d75d\")}\n",
    "newvalues = [{ \"$unset\": [\"data.bmi\", \"data.age\"]}]\n",
    "\n",
    "x = collection.update_many(myquery, newvalues)"
   ],
   "metadata": {
    "collapsed": false,
    "pycharm": {
     "name": "#%%\n"
    }
   }
  },
  {
   "cell_type": "code",
   "execution_count": null,
   "outputs": [],
   "source": [
    "\n",
    "#4. reading_time\n",
    "#convert reading_time to date\n",
    "myquery = {\"data.reading_time\":{\"$exists\": \"true\"}}\n",
    "newvalues = [{\"$set\" : {\"data.testdate\":{\"$toDate\":\"$data.reading_time\"}}}]\n",
    "x = collection.update_many(myquery, newvalues)"
   ],
   "metadata": {
    "collapsed": false,
    "pycharm": {
     "name": "#%%\n"
    }
   }
  },
  {
   "cell_type": "code",
   "execution_count": null,
   "outputs": [],
   "source": [
    "\n",
    "#delete entries outside of experiment dates\n",
    "myquery = {\"$or\": [\n",
    "      {\"data.reading_time\":{\"$exists\": \"true\"}, \"data.testdate\": {\"$lt\":from_date} },\n",
    "      { \"data.reading_time\":{\"$exists\": \"true\"}, \"data.testdate\": {\"$gt\":to_date } }\n",
    "   ]}\n",
    "x = collection.delete_many(myquery)"
   ],
   "metadata": {
    "collapsed": false,
    "pycharm": {
     "name": "#%%\n"
    }
   }
  },
  {
   "cell_type": "code",
   "execution_count": null,
   "outputs": [],
   "source": [
    "\n",
    "#delete the previously added date fields\n",
    "myquery = {\"data.reading_time\":{\"$exists\": \"true\"}}\n",
    "newvalues = [{\"$unset\" : [\"data.testdate\"]}]\n",
    "x = collection.update_many(myquery, newvalues)"
   ],
   "metadata": {
    "collapsed": false,
    "pycharm": {
     "name": "#%%\n"
    }
   }
  },
  {
   "cell_type": "code",
   "execution_count": null,
   "outputs": [],
   "source": [
    "\n",
    "#5. sleep_start\n",
    "#convert sleep_start to date\n",
    "myquery = {\"data.sleep_start\":{\"$exists\": \"true\"}}\n",
    "newvalues = [{\"$set\" : {\"data.testdate\":{\"$toDate\":\"$data.sleep_start\"}}}]\n",
    "x = collection.update_many(myquery, newvalues)"
   ],
   "metadata": {
    "collapsed": false,
    "pycharm": {
     "name": "#%%\n"
    }
   }
  },
  {
   "cell_type": "code",
   "execution_count": null,
   "outputs": [],
   "source": [
    "\n",
    "#delete entries outside of experiment dates\n",
    "myquery = {\"$or\": [\n",
    "      {\"data.sleep_start\":{\"$exists\": \"true\"}, \"data.testdate\": {\"$lt\":from_date} },\n",
    "      { \"data.sleep_start\":{\"$exists\": \"true\"}, \"data.testdate\": {\"$gt\":to_date } }\n",
    "   ]}\n",
    "x = collection.delete_many(myquery)"
   ],
   "metadata": {
    "collapsed": false,
    "pycharm": {
     "name": "#%%\n"
    }
   }
  },
  {
   "cell_type": "code",
   "execution_count": null,
   "outputs": [],
   "source": [
    "\n",
    "#delete the previously added date fields\n",
    "myquery = {\"data.sleep_start\":{\"$exists\": \"true\"}}\n",
    "newvalues = [{\"$unset\" : [\"data.testdate\"]}]\n",
    "x = collection.update_many(myquery, newvalues)"
   ],
   "metadata": {
    "collapsed": false,
    "pycharm": {
     "name": "#%%\n"
    }
   }
  },
  {
   "cell_type": "code",
   "execution_count": null,
   "outputs": [],
   "source": [
    "\n",
    "#6. recorded_time\n",
    "#convert recorded_time to date\n",
    "myquery = {\"data.recorded_time\":{\"$exists\": \"true\"}}\n",
    "newvalues = [{\"$set\" : {\"data.testdate\":{\"$toDate\":\"$data.recorded_time\"}}}]\n",
    "x = collection.update_many(myquery, newvalues)"
   ],
   "metadata": {
    "collapsed": false,
    "pycharm": {
     "name": "#%%\n"
    }
   }
  },
  {
   "cell_type": "code",
   "execution_count": null,
   "outputs": [],
   "source": [
    "#delete entries outside of experiment dates\n",
    "myquery = {\"$or\": [\n",
    "      {\"data.recorded_time\":{\"$exists\": \"true\"}, \"data.testdate\": {\"$lt\":from_date} },\n",
    "      { \"data.recorded_time\":{\"$exists\": \"true\"}, \"data.testdate\": {\"$gt\":to_date } }\n",
    "   ]}\n",
    "x = collection.delete_many(myquery)"
   ],
   "metadata": {
    "collapsed": false,
    "pycharm": {
     "name": "#%%\n"
    }
   }
  },
  {
   "cell_type": "code",
   "execution_count": null,
   "outputs": [],
   "source": [
    "#delete the previously added date fields\n",
    "myquery = {\"data.recorded_time\":{\"$exists\": \"true\"}}\n",
    "newvalues = [{\"$unset\" : [\"data.testdate\"]}]\n",
    "x = collection.update_many(myquery, newvalues)"
   ],
   "metadata": {
    "collapsed": false,
    "pycharm": {
     "name": "#%%\n"
    }
   }
  },
  {
   "cell_type": "code",
   "execution_count": null,
   "outputs": [],
   "source": [
    "#7. DATE\n",
    "#convert DATE to date\n",
    "myquery = {\"data.DATE\":{\"$exists\": \"true\"}}\n",
    "newvalues = [{\"$set\" : {\"data.testdate\":{\"$toDate\":\"$data.DATE\"}}}]\n",
    "x = collection.update_many(myquery, newvalues)"
   ],
   "metadata": {
    "collapsed": false,
    "pycharm": {
     "name": "#%%\n"
    }
   }
  },
  {
   "cell_type": "code",
   "execution_count": null,
   "outputs": [],
   "source": [
    "#delete entries outside of experiment dates\n",
    "myquery = {\"$or\": [\n",
    "      {\"data.DATE\":{\"$exists\": \"true\"}, \"data.testdate\": {\"$lt\":from_date} },\n",
    "      { \"data.DATE\":{\"$exists\": \"true\"}, \"data.testdate\": {\"$gt\":to_date } }\n",
    "   ]}\n",
    "x = collection.delete_many(myquery)"
   ],
   "metadata": {
    "collapsed": false,
    "pycharm": {
     "name": "#%%\n"
    }
   }
  },
  {
   "cell_type": "code",
   "execution_count": null,
   "outputs": [],
   "source": [
    "#delete the previously added date fields\n",
    "myquery = {\"data.DATE\":{\"$exists\": \"true\"}}\n",
    "newvalues = [{\"$unset\" : [\"data.testdate\"]}]\n",
    "x = collection.update_many(myquery, newvalues)"
   ],
   "metadata": {
    "collapsed": false,
    "pycharm": {
     "name": "#%%\n"
    }
   }
  },
  {
   "cell_type": "code",
   "execution_count": null,
   "outputs": [],
   "source": [
    "#8. date\n",
    "#convert date to date\n",
    "myquery = {\"data.date\":{\"$exists\": \"true\"}}\n",
    "newvalues = [{\"$set\" : {\"data.testdate\":{\"$toDate\":\"$data.date\"}}}]\n",
    "x = collection.update_many(myquery, newvalues)"
   ],
   "metadata": {
    "collapsed": false,
    "pycharm": {
     "name": "#%%\n"
    }
   }
  },
  {
   "cell_type": "code",
   "execution_count": null,
   "outputs": [],
   "source": [
    "#delete entries outside of experiment dates\n",
    "myquery = {\"$or\": [\n",
    "      {\"data.date\":{\"$exists\": \"true\"}, \"data.testdate\": {\"$lt\":from_date} },\n",
    "      { \"data.date\":{\"$exists\": \"true\"}, \"data.testdate\": {\"$gt\":to_date } }\n",
    "   ]}\n",
    "x = collection.delete_many(myquery)"
   ],
   "metadata": {
    "collapsed": false,
    "pycharm": {
     "name": "#%%\n"
    }
   }
  },
  {
   "cell_type": "code",
   "execution_count": null,
   "outputs": [],
   "source": [
    "#delete the previously added date fields\n",
    "myquery = {\"data.date\":{\"$exists\": \"true\"}}\n",
    "newvalues = [{\"$unset\" : [\"data.testdate\"]}]\n",
    "x = collection.update_many(myquery, newvalues)"
   ],
   "metadata": {
    "collapsed": false,
    "pycharm": {
     "name": "#%%\n"
    }
   }
  },
  {
   "cell_type": "code",
   "execution_count": null,
   "outputs": [],
   "source": [
    "#9. start_date_time\n",
    "#convert start_date_time to date\n",
    "myquery = {\"data.start_date_time\":{\"$exists\": \"true\"}}\n",
    "newvalues = [{\"$set\" : {\"data.testdate\":{\"$toDate\":\"$data.start_date_time\"}}}]\n",
    "x = collection.update_many(myquery, newvalues)"
   ],
   "metadata": {
    "collapsed": false,
    "pycharm": {
     "name": "#%%\n"
    }
   }
  },
  {
   "cell_type": "code",
   "execution_count": null,
   "outputs": [],
   "source": [
    "#delete entries outside of experiment dates\n",
    "myquery = {\"$or\": [\n",
    "      {\"data.start_date_time\":{\"$exists\": \"true\"}, \"data.testdate\": {\"$lt\":from_date} },\n",
    "      { \"data.start_date_time\":{\"$exists\": \"true\"}, \"data.testdate\": {\"$gt\":to_date } }\n",
    "   ]}\n",
    "x = collection.delete_many(myquery)"
   ],
   "metadata": {
    "collapsed": false,
    "pycharm": {
     "name": "#%%\n"
    }
   }
  },
  {
   "cell_type": "code",
   "execution_count": null,
   "outputs": [],
   "source": [
    "#delete the previously added date fields\n",
    "myquery = {\"data.start_date_time\":{\"$exists\": \"true\"}}\n",
    "newvalues = [{\"$unset\" : [\"data.testdate\"]}]\n",
    "x = collection.update_many(myquery, newvalues)"
   ],
   "metadata": {
    "collapsed": false,
    "pycharm": {
     "name": "#%%\n"
    }
   }
  },
  {
   "cell_type": "code",
   "execution_count": null,
   "outputs": [],
   "source": [
    "# clean unnecessary types\n",
    "#1. swim_lengths_data\n",
    "#2. height\n",
    "myquery = {\"type\":\"swim_lengths_data\"}\n",
    "x = collection.delete_many(myquery)\n",
    "myquery = {\"type\":\"height\"}\n",
    "x = collection.delete_many(myquery)\n",
    "#--------------------------------------------------------------------------------------------------------"
   ],
   "metadata": {
    "collapsed": false,
    "pycharm": {
     "name": "#%%\n"
    }
   }
  }
 ],
 "metadata": {
  "kernelspec": {
   "display_name": "Python 3",
   "language": "python",
   "name": "python3"
  },
  "language_info": {
   "codemirror_mode": {
    "name": "ipython",
    "version": 2
   },
   "file_extension": ".py",
   "mimetype": "text/x-python",
   "name": "python",
   "nbconvert_exporter": "python",
   "pygments_lexer": "ipython2",
   "version": "2.7.6"
  }
 },
 "nbformat": 4,
 "nbformat_minor": 0
}