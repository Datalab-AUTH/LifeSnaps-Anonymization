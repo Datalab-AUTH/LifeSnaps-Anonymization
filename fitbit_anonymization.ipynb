{
 "cells": [
  {
   "cell_type": "code",
   "execution_count": 1,
   "metadata": {
    "collapsed": true,
    "pycharm": {
     "name": "#%%\n"
    }
   },
   "outputs": [],
   "source": [
    "import json\n",
    "\n",
    "from pymongo import MongoClient"
   ]
  },
  {
   "cell_type": "code",
   "execution_count": 2,
   "outputs": [],
   "source": [
    "with open('credentials.json') as f:\n",
    "    data = json.load(f)\n",
    "    username = data['username']\n",
    "    password = data['password']"
   ],
   "metadata": {
    "collapsed": false,
    "pycharm": {
     "name": "#%%\n"
    }
   }
  },
  {
   "cell_type": "code",
   "execution_count": 3,
   "outputs": [],
   "source": [
    "client = MongoClient('mongodb://%s:%s@127.0.0.1' % (username, password))\n",
    "db = client.rais_anonymized\n",
    "collection = db['fitbit']"
   ],
   "metadata": {
    "collapsed": false,
    "pycharm": {
     "name": "#%%\n"
    }
   }
  },
  {
   "cell_type": "code",
   "execution_count": 4,
   "outputs": [],
   "source": [
    "#--------------------------------------------------------------------------------------------------------\n",
    "\n",
    "#(i) Editing Type=Profile\n",
    "\n",
    "#remove red fields as in the document\n",
    "#1. full_name\n",
    "#2. first_name\n",
    "#3. last_name\n",
    "#4. display_name\n",
    "#5. display_name_setting\n",
    "#6. username\n",
    "#7. email_address\n",
    "#8. timezone\n",
    "#9. locale\n",
    "#10. about_me\n",
    "#\n",
    "# add\n",
    "#1.bmi\n",
    "\n",
    "myquery = {\"type\": \"Profile\"}\n",
    "newvalues = [\n",
    "    {\"$set\": {\"data.bmi\":{ \"$round\" : [ { \"$divide\" :\n",
    "                [ \"$data.weight\", { \"$multiply\" : [ \"$data.height\", \"$data.height\", 0.0001 ]} ]} ]} } },\n",
    "    { \"$unset\": [\"data.full_name\", \"data.first_name\", \"data.last_name\", \"data.display_name\",\n",
    "                          \"data.display_name_setting\", \"data.username\", \"data.email_address\",\n",
    "                         \"data.timezone\", \"data.locale\", \"data.about_me\"]}\n",
    "            ]\n",
    "x = collection.update_many(myquery, newvalues)"
   ],
   "metadata": {
    "collapsed": false,
    "pycharm": {
     "name": "#%%\n"
    }
   }
  },
  {
   "cell_type": "code",
   "execution_count": 5,
   "outputs": [],
   "source": [
    "\n",
    "# remove other fields\n",
    "#1. id\n",
    "#2. country\n",
    "#3. state\n",
    "#4. city\n",
    "#5. height\n",
    "#6. weight\n",
    "#7. stride_length_walking\n",
    "#8. stride_length_running\n",
    "\n",
    "myquery = {\"type\": \"Profile\"}\n",
    "newvalues = [{ \"$unset\": [\"data.id\", \"data.country\", \"data.state\", \"data.city\", \"data.height\", \"data.weight\", \"data.stride_length_walking\", \"data.stride_length_running\"]}]\n",
    "x = collection.update_many(myquery, newvalues)"
   ],
   "metadata": {
    "collapsed": false,
    "pycharm": {
     "name": "#%%\n"
    }
   }
  },
  {
   "cell_type": "code",
   "execution_count": 6,
   "outputs": [],
   "source": [
    "\n",
    "#Convert extreme bmi to ranges\n",
    "myquery = {\"type\": \"Profile\", \"data.gender\": \"MALE\", \"data.bmi\":{\"$gte\":30}}\n",
    "newvalues = [{\"$set\" : {\"data.bmi\":\">=30\"}}]\n",
    "x = collection.update_many(myquery, newvalues)"
   ],
   "metadata": {
    "collapsed": false,
    "pycharm": {
     "name": "#%%\n"
    }
   }
  },
  {
   "cell_type": "code",
   "execution_count": 7,
   "outputs": [],
   "source": [
    "\n",
    "myquery = {\"type\": \"Profile\", \"data.gender\": \"FEMALE\", \"data.bmi\":{\"$gte\":25}}\n",
    "newvalues = [{\"$set\" : {\"data.bmi\":\">=25\"}}]\n",
    "x = collection.update_many(myquery, newvalues)"
   ],
   "metadata": {
    "collapsed": false,
    "pycharm": {
     "name": "#%%\n"
    }
   }
  },
  {
   "cell_type": "code",
   "execution_count": 8,
   "outputs": [],
   "source": [
    "\n",
    "myquery = {\"type\": \"Profile\", \"data.bmi\":{\"$lt\":19}}\n",
    "newvalues = [{\"$set\" : {\"data.bmi\":\"<19\"}}]\n",
    "x = collection.update_many(myquery, newvalues)\n"
   ],
   "metadata": {
    "collapsed": false,
    "pycharm": {
     "name": "#%%\n"
    }
   }
  },
  {
   "cell_type": "code",
   "execution_count": 9,
   "outputs": [],
   "source": [
    "\n",
    "# convert date_of_birth to ages\n",
    "from datetime import datetime\n",
    "experiment_date = datetime(2021,5,24)\n",
    "myquery = {\"type\": \"Profile\"}\n",
    "newvalues = [{\"$set\" : {\"data.age\": {\"$floor\":[{ \"$divide\": [ { \"$subtract\":\n",
    "            [experiment_date, {\"$toDate\":\"$data.date_of_birth\"} ] }, 1000*3600*24*365.2425] }] } }}]\n",
    "x = collection.update_many(myquery, newvalues)"
   ],
   "metadata": {
    "collapsed": false,
    "pycharm": {
     "name": "#%%\n"
    }
   }
  },
  {
   "cell_type": "code",
   "execution_count": 10,
   "outputs": [],
   "source": [
    "\n",
    "## convert age to ranges\n",
    "myquery = {\"type\": \"Profile\", \"data.age\":{\"$lt\":30}}\n",
    "newvalues = [{\"$set\" : {\"data.age\":\"<30\"}}]\n",
    "x = collection.update_many(myquery, newvalues)\n",
    "\n",
    "myquery = {\"type\": \"Profile\", \"data.age\":{\"$gte\":30}}\n",
    "newvalues = [{\"$set\" : {\"data.age\":\">=30\"}}]\n",
    "x = collection.update_many(myquery, newvalues)"
   ],
   "metadata": {
    "collapsed": false,
    "pycharm": {
     "name": "#%%\n"
    }
   }
  },
  {
   "cell_type": "code",
   "execution_count": 11,
   "outputs": [],
   "source": [
    "\n",
    "#remove\n",
    "#1. date_of_birth\n",
    "#2. member_since\n",
    "\n",
    "myquery = {\"type\": \"Profile\"}\n",
    "newvalues = [{ \"$unset\": [\"data.date_of_birth\", \"data.member_since\"]}]\n",
    "x = collection.update_many(myquery, newvalues)"
   ],
   "metadata": {
    "collapsed": false,
    "pycharm": {
     "name": "#%%\n"
    }
   }
  },
  {
   "cell_type": "code",
   "execution_count": 12,
   "outputs": [],
   "source": [
    "\n",
    "#--------------------------------------------------------------------------------------------------------\n",
    "\n",
    "#(ii) Editing Type=journal_entries\n",
    "\n",
    "# remove\n",
    "# 1. zone_offset\n",
    "\n",
    "myquery = {\"type\": \"journal_entries\"}\n",
    "newvalues = [\n",
    "    { \"$unset\": [\"data.zone_offset\"]}\n",
    "            ]\n",
    "\n",
    "x = collection.update_many(myquery, newvalues)\n"
   ],
   "metadata": {
    "collapsed": false,
    "pycharm": {
     "name": "#%%\n"
    }
   }
  },
  {
   "cell_type": "code",
   "execution_count": 13,
   "outputs": [],
   "source": [
    "\n",
    "#--------------------------------------------------------------------------------------------------------\n",
    "\n",
    "#(iii) Editing Type=mindfulness_sessions\n",
    "\n",
    "#remove time zone difference\n",
    "\n",
    "myquery = {\"type\": \"mindfulness_sessions\"}\n",
    "newvalues = [{\"$set\" : {\"data.start_date_time\":{\"$substr\":[ \"$data.start_date_time\", 0,\n",
    "                                               { \"$add\": [ { \"$strLenCP\": \"$data.start_date_time\" }, -6 ] } ]} }},\n",
    "            {\"$set\" : {\"data.end_date_time\":{\"$substr\":[ \"$data.end_date_time\", 0,\n",
    "                                               { \"$add\": [ { \"$strLenCP\": \"$data.end_date_time\" }, -6 ] } ]} }}]\n",
    "\n",
    "x = collection.update_many(myquery, newvalues)\n"
   ],
   "metadata": {
    "collapsed": false,
    "pycharm": {
     "name": "#%%\n"
    }
   }
  },
  {
   "cell_type": "code",
   "execution_count": 14,
   "outputs": [],
   "source": [
    "\n",
    "#--------------------------------------------------------------------------------------------------------\n",
    "\n",
    "#(iv) Editing Type=badge\n",
    "\n",
    "#remove a single GOAL_BASED_WEIGHT_LOSS_ACHIEVEMENT\n",
    "\n",
    "myquery = {\"type\":\"badge\",\"data.encodedId\":'22984Z'}\n",
    "x = collection.delete_many(myquery)"
   ],
   "metadata": {
    "collapsed": false,
    "pycharm": {
     "name": "#%%\n"
    }
   }
  },
  {
   "cell_type": "code",
   "execution_count": 15,
   "outputs": [],
   "source": [
    "\n",
    "#add\n",
    "#1. badge\n",
    "\n",
    "# myquery = {\"type\":\"badge\"}\n",
    "# newvalues = [{\"$set\" : {\"data.badge\":{\"$concat\":[ \"$data.badgeType\",\"=\", { \"$toString\": \"$data.value\" } ]} }}]\n",
    "# x = collection.update_many(myquery, newvalues)"
   ],
   "metadata": {
    "collapsed": false,
    "pycharm": {
     "name": "#%%\n"
    }
   }
  },
  {
   "cell_type": "code",
   "execution_count": 16,
   "outputs": [],
   "source": [
    "\n",
    "#remove\n",
    "#1. encodedId\n",
    "#2. timesAchieved\n",
    "#3. name\n",
    "#4. shortName\n",
    "#5. earnedMessage\n",
    "#6. description\n",
    "#7. category\n",
    "#8. shareText\n",
    "\n",
    "myquery = {\"type\": \"badge\"}\n",
    "newvalues = [{ \"$unset\": [\"data.encodedId\", \"data.timesAchieved\", \"data.name\", \"data.shortName\",\n",
    "\t\t\t\t\"data.earnedMessage\", \"data.description\", \"data.category\", \"data.shareText\"]}]\n",
    "x = collection.update_many(myquery, newvalues)"
   ],
   "metadata": {
    "collapsed": false,
    "pycharm": {
     "name": "#%%\n"
    }
   }
  },
  {
   "cell_type": "code",
   "execution_count": 17,
   "outputs": [],
   "source": [
    "\n",
    "#--------------------------------------------------------------------------------------------------------\n",
    "\n",
    "#(v) Editing Type=execise\n",
    "# Example: 629718672c3a162f67928676\n",
    "\n",
    "ACTIVITIES = {\n",
    "    90013: \"Walk\",\n",
    "    15000: \"Sport\",\n",
    "    3001: \"Aerobic Workout\",\n",
    "    52000: \"Yoga/Pilates\",\n",
    "    90024: \"Swim\",\n",
    "    90001: \"Bike\",\n",
    "    20047: \"Elliptical\",\n",
    "    2131: \"Weights\",\n",
    "    55001: \"Spinning\",\n",
    "    1071: \"Bike\",\n",
    "    90009: \"Run\",\n",
    "    20049: \"Treadmill\",\n",
    "    53000: \"Yoga/Pilates\",\n",
    "    55002: \"Martial Arts\",\n",
    "    2040: \"Circuit Training\",\n",
    "    2065: \"Stairclimber\",\n",
    "    3000: \"Workout\",\n",
    "    90012: \"Hike\",\n",
    "    12339646: \"Run\",\n",
    "    12350445: \"Walk\",\n",
    "    23418750: \"Swim\",\n",
    "    55003: \"Bootcamp\",\n",
    "    15430: \"Martial Arts\",\n",
    "    20057: \"Interval Workout\",\n",
    "    15675: \"Tennis\",\n",
    "    61980497: \"Workout\"\n",
    "}\n"
   ],
   "metadata": {
    "collapsed": false,
    "pycharm": {
     "name": "#%%\n"
    }
   }
  },
  {
   "cell_type": "code",
   "execution_count": 18,
   "outputs": [
    {
     "name": "stdout",
     "output_type": "stream",
     "text": [
      "{'n': 3794, 'nModified': 740, 'ok': 1.0, 'updatedExisting': True}\n",
      "{'n': 211, 'nModified': 1, 'ok': 1.0, 'updatedExisting': True}\n",
      "{'n': 182, 'nModified': 4, 'ok': 1.0, 'updatedExisting': True}\n",
      "{'n': 5, 'nModified': 5, 'ok': 1.0, 'updatedExisting': True}\n",
      "{'n': 71, 'nModified': 22, 'ok': 1.0, 'updatedExisting': True}\n",
      "{'n': 114, 'nModified': 7, 'ok': 1.0, 'updatedExisting': True}\n",
      "{'n': 16, 'nModified': 2, 'ok': 1.0, 'updatedExisting': True}\n",
      "{'n': 64, 'nModified': 0, 'ok': 1.0, 'updatedExisting': True}\n",
      "{'n': 11, 'nModified': 0, 'ok': 1.0, 'updatedExisting': True}\n",
      "{'n': 183, 'nModified': 183, 'ok': 1.0, 'updatedExisting': True}\n",
      "{'n': 258, 'nModified': 46, 'ok': 1.0, 'updatedExisting': True}\n",
      "{'n': 38, 'nModified': 0, 'ok': 1.0, 'updatedExisting': True}\n",
      "{'n': 54, 'nModified': 54, 'ok': 1.0, 'updatedExisting': True}\n",
      "{'n': 1, 'nModified': 1, 'ok': 1.0, 'updatedExisting': True}\n",
      "{'n': 43, 'nModified': 21, 'ok': 1.0, 'updatedExisting': True}\n",
      "{'n': 1, 'nModified': 0, 'ok': 1.0, 'updatedExisting': True}\n",
      "{'n': 233, 'nModified': 20, 'ok': 1.0, 'updatedExisting': True}\n",
      "{'n': 17, 'nModified': 2, 'ok': 1.0, 'updatedExisting': True}\n",
      "{'n': 25, 'nModified': 25, 'ok': 1.0, 'updatedExisting': True}\n",
      "{'n': 66, 'nModified': 66, 'ok': 1.0, 'updatedExisting': True}\n",
      "{'n': 1, 'nModified': 1, 'ok': 1.0, 'updatedExisting': True}\n",
      "{'n': 2, 'nModified': 0, 'ok': 1.0, 'updatedExisting': True}\n",
      "{'n': 11, 'nModified': 11, 'ok': 1.0, 'updatedExisting': True}\n",
      "{'n': 10, 'nModified': 3, 'ok': 1.0, 'updatedExisting': True}\n",
      "{'n': 2, 'nModified': 0, 'ok': 1.0, 'updatedExisting': True}\n",
      "{'n': 3, 'nModified': 3, 'ok': 1.0, 'updatedExisting': True}\n"
     ]
    }
   ],
   "source": [
    "for activity_id, activity_name in ACTIVITIES.items():\n",
    "    myquery = {\"type\": \"exercise\", \"data.activityTypeId\": activity_id}\n",
    "    newvalue = [{\"$set\": {\"data.activityName\": activity_name}}]\n",
    "    x = collection.update_many(myquery, newvalue)\n",
    "    print(x.raw_result)"
   ],
   "metadata": {
    "collapsed": false,
    "pycharm": {
     "name": "#%%\n"
    }
   }
  },
  {
   "cell_type": "code",
   "execution_count": 34,
   "outputs": [],
   "source": [
    "\n",
    "#--------------------------------------------------------------------------------------------------------\n",
    "#\n",
    "#remove data outside of the experiment duration\n",
    "#\n",
    "\n",
    "from datetime import datetime\n",
    "from_date = datetime(2021,5,24)\n",
    "to_date = datetime(2022,1,22)"
   ],
   "metadata": {
    "collapsed": false,
    "pycharm": {
     "name": "#%%\n"
    }
   }
  },
  {
   "cell_type": "code",
   "execution_count": 35,
   "outputs": [
    {
     "ename": "KeyboardInterrupt",
     "evalue": "",
     "output_type": "error",
     "traceback": [
      "\u001B[1;31m---------------------------------------------------------------------------\u001B[0m",
      "\u001B[1;31mKeyboardInterrupt\u001B[0m                         Traceback (most recent call last)",
      "Input \u001B[1;32mIn [35]\u001B[0m, in \u001B[0;36m<cell line: 5>\u001B[1;34m()\u001B[0m\n\u001B[0;32m      3\u001B[0m myquery \u001B[38;5;241m=\u001B[39m {\u001B[38;5;124m\"\u001B[39m\u001B[38;5;124mdata.log_time\u001B[39m\u001B[38;5;124m\"\u001B[39m:{\u001B[38;5;124m\"\u001B[39m\u001B[38;5;124m$exists\u001B[39m\u001B[38;5;124m\"\u001B[39m: \u001B[38;5;124m\"\u001B[39m\u001B[38;5;124mtrue\u001B[39m\u001B[38;5;124m\"\u001B[39m}}\n\u001B[0;32m      4\u001B[0m newvalues \u001B[38;5;241m=\u001B[39m [{\u001B[38;5;124m\"\u001B[39m\u001B[38;5;124m$set\u001B[39m\u001B[38;5;124m\"\u001B[39m : {\u001B[38;5;124m\"\u001B[39m\u001B[38;5;124mdata.testdate\u001B[39m\u001B[38;5;124m\"\u001B[39m:{\u001B[38;5;124m\"\u001B[39m\u001B[38;5;124m$toDate\u001B[39m\u001B[38;5;124m\"\u001B[39m:\u001B[38;5;124m\"\u001B[39m\u001B[38;5;124m$data.log_time\u001B[39m\u001B[38;5;124m\"\u001B[39m}}}]\n\u001B[1;32m----> 5\u001B[0m x \u001B[38;5;241m=\u001B[39m \u001B[43mcollection\u001B[49m\u001B[38;5;241;43m.\u001B[39;49m\u001B[43mupdate_many\u001B[49m\u001B[43m(\u001B[49m\u001B[43mmyquery\u001B[49m\u001B[43m,\u001B[49m\u001B[43m \u001B[49m\u001B[43mnewvalues\u001B[49m\u001B[43m)\u001B[49m\n",
      "File \u001B[1;32m~\\.conda\\envs\\RAIS-Anonymization\\lib\\site-packages\\pymongo\\collection.py:1104\u001B[0m, in \u001B[0;36mCollection.update_many\u001B[1;34m(self, filter, update, upsert, array_filters, bypass_document_validation, collation, hint, session)\u001B[0m\n\u001B[0;32m   1100\u001B[0m common\u001B[38;5;241m.\u001B[39mvalidate_list_or_none(\u001B[38;5;124m'\u001B[39m\u001B[38;5;124marray_filters\u001B[39m\u001B[38;5;124m'\u001B[39m, array_filters)\n\u001B[0;32m   1102\u001B[0m write_concern \u001B[38;5;241m=\u001B[39m \u001B[38;5;28mself\u001B[39m\u001B[38;5;241m.\u001B[39m_write_concern_for(session)\n\u001B[0;32m   1103\u001B[0m \u001B[38;5;28;01mreturn\u001B[39;00m UpdateResult(\n\u001B[1;32m-> 1104\u001B[0m     \u001B[38;5;28;43mself\u001B[39;49m\u001B[38;5;241;43m.\u001B[39;49m\u001B[43m_update_retryable\u001B[49m\u001B[43m(\u001B[49m\n\u001B[0;32m   1105\u001B[0m \u001B[43m        \u001B[49m\u001B[38;5;28;43mfilter\u001B[39;49m\u001B[43m,\u001B[49m\u001B[43m \u001B[49m\u001B[43mupdate\u001B[49m\u001B[43m,\u001B[49m\u001B[43m \u001B[49m\u001B[43mupsert\u001B[49m\u001B[43m,\u001B[49m\u001B[43m \u001B[49m\u001B[43mcheck_keys\u001B[49m\u001B[38;5;241;43m=\u001B[39;49m\u001B[38;5;28;43;01mFalse\u001B[39;49;00m\u001B[43m,\u001B[49m\u001B[43m \u001B[49m\u001B[43mmulti\u001B[49m\u001B[38;5;241;43m=\u001B[39;49m\u001B[38;5;28;43;01mTrue\u001B[39;49;00m\u001B[43m,\u001B[49m\n\u001B[0;32m   1106\u001B[0m \u001B[43m        \u001B[49m\u001B[43mwrite_concern\u001B[49m\u001B[38;5;241;43m=\u001B[39;49m\u001B[43mwrite_concern\u001B[49m\u001B[43m,\u001B[49m\n\u001B[0;32m   1107\u001B[0m \u001B[43m        \u001B[49m\u001B[43mbypass_doc_val\u001B[49m\u001B[38;5;241;43m=\u001B[39;49m\u001B[43mbypass_document_validation\u001B[49m\u001B[43m,\u001B[49m\n\u001B[0;32m   1108\u001B[0m \u001B[43m        \u001B[49m\u001B[43mcollation\u001B[49m\u001B[38;5;241;43m=\u001B[39;49m\u001B[43mcollation\u001B[49m\u001B[43m,\u001B[49m\u001B[43m \u001B[49m\u001B[43marray_filters\u001B[49m\u001B[38;5;241;43m=\u001B[39;49m\u001B[43marray_filters\u001B[49m\u001B[43m,\u001B[49m\n\u001B[0;32m   1109\u001B[0m \u001B[43m        \u001B[49m\u001B[43mhint\u001B[49m\u001B[38;5;241;43m=\u001B[39;49m\u001B[43mhint\u001B[49m\u001B[43m,\u001B[49m\u001B[43m \u001B[49m\u001B[43msession\u001B[49m\u001B[38;5;241;43m=\u001B[39;49m\u001B[43msession\u001B[49m\u001B[43m)\u001B[49m,\n\u001B[0;32m   1110\u001B[0m     write_concern\u001B[38;5;241m.\u001B[39macknowledged)\n",
      "File \u001B[1;32m~\\.conda\\envs\\RAIS-Anonymization\\lib\\site-packages\\pymongo\\collection.py:877\u001B[0m, in \u001B[0;36mCollection._update_retryable\u001B[1;34m(self, criteria, document, upsert, check_keys, multi, manipulate, write_concern, op_id, ordered, bypass_doc_val, collation, array_filters, hint, session)\u001B[0m\n\u001B[0;32m    868\u001B[0m \u001B[38;5;28;01mdef\u001B[39;00m \u001B[38;5;21m_update\u001B[39m(session, sock_info, retryable_write):\n\u001B[0;32m    869\u001B[0m     \u001B[38;5;28;01mreturn\u001B[39;00m \u001B[38;5;28mself\u001B[39m\u001B[38;5;241m.\u001B[39m_update(\n\u001B[0;32m    870\u001B[0m         sock_info, criteria, document, upsert\u001B[38;5;241m=\u001B[39mupsert,\n\u001B[0;32m    871\u001B[0m         check_keys\u001B[38;5;241m=\u001B[39mcheck_keys, multi\u001B[38;5;241m=\u001B[39mmulti, manipulate\u001B[38;5;241m=\u001B[39mmanipulate,\n\u001B[1;32m   (...)\u001B[0m\n\u001B[0;32m    874\u001B[0m         array_filters\u001B[38;5;241m=\u001B[39marray_filters, hint\u001B[38;5;241m=\u001B[39mhint, session\u001B[38;5;241m=\u001B[39msession,\n\u001B[0;32m    875\u001B[0m         retryable_write\u001B[38;5;241m=\u001B[39mretryable_write)\n\u001B[1;32m--> 877\u001B[0m \u001B[38;5;28;01mreturn\u001B[39;00m \u001B[38;5;28;43mself\u001B[39;49m\u001B[38;5;241;43m.\u001B[39;49m\u001B[43m__database\u001B[49m\u001B[38;5;241;43m.\u001B[39;49m\u001B[43mclient\u001B[49m\u001B[38;5;241;43m.\u001B[39;49m\u001B[43m_retryable_write\u001B[49m\u001B[43m(\u001B[49m\n\u001B[0;32m    878\u001B[0m \u001B[43m    \u001B[49m\u001B[43m(\u001B[49m\u001B[43mwrite_concern\u001B[49m\u001B[43m \u001B[49m\u001B[38;5;129;43;01mor\u001B[39;49;00m\u001B[43m \u001B[49m\u001B[38;5;28;43mself\u001B[39;49m\u001B[38;5;241;43m.\u001B[39;49m\u001B[43mwrite_concern\u001B[49m\u001B[43m)\u001B[49m\u001B[38;5;241;43m.\u001B[39;49m\u001B[43macknowledged\u001B[49m\u001B[43m \u001B[49m\u001B[38;5;129;43;01mand\u001B[39;49;00m\u001B[43m \u001B[49m\u001B[38;5;129;43;01mnot\u001B[39;49;00m\u001B[43m \u001B[49m\u001B[43mmulti\u001B[49m\u001B[43m,\u001B[49m\n\u001B[0;32m    879\u001B[0m \u001B[43m    \u001B[49m\u001B[43m_update\u001B[49m\u001B[43m,\u001B[49m\u001B[43m \u001B[49m\u001B[43msession\u001B[49m\u001B[43m)\u001B[49m\n",
      "File \u001B[1;32m~\\.conda\\envs\\RAIS-Anonymization\\lib\\site-packages\\pymongo\\mongo_client.py:1552\u001B[0m, in \u001B[0;36mMongoClient._retryable_write\u001B[1;34m(self, retryable, func, session)\u001B[0m\n\u001B[0;32m   1550\u001B[0m \u001B[38;5;124;03m\"\"\"Internal retryable write helper.\"\"\"\u001B[39;00m\n\u001B[0;32m   1551\u001B[0m \u001B[38;5;28;01mwith\u001B[39;00m \u001B[38;5;28mself\u001B[39m\u001B[38;5;241m.\u001B[39m_tmp_session(session) \u001B[38;5;28;01mas\u001B[39;00m s:\n\u001B[1;32m-> 1552\u001B[0m     \u001B[38;5;28;01mreturn\u001B[39;00m \u001B[38;5;28;43mself\u001B[39;49m\u001B[38;5;241;43m.\u001B[39;49m\u001B[43m_retry_with_session\u001B[49m\u001B[43m(\u001B[49m\u001B[43mretryable\u001B[49m\u001B[43m,\u001B[49m\u001B[43m \u001B[49m\u001B[43mfunc\u001B[49m\u001B[43m,\u001B[49m\u001B[43m \u001B[49m\u001B[43ms\u001B[49m\u001B[43m,\u001B[49m\u001B[43m \u001B[49m\u001B[38;5;28;43;01mNone\u001B[39;49;00m\u001B[43m)\u001B[49m\n",
      "File \u001B[1;32m~\\.conda\\envs\\RAIS-Anonymization\\lib\\site-packages\\pymongo\\mongo_client.py:1438\u001B[0m, in \u001B[0;36mMongoClient._retry_with_session\u001B[1;34m(self, retryable, func, session, bulk)\u001B[0m\n\u001B[0;32m   1429\u001B[0m \u001B[38;5;124;03m\"\"\"Execute an operation with at most one consecutive retries\u001B[39;00m\n\u001B[0;32m   1430\u001B[0m \n\u001B[0;32m   1431\u001B[0m \u001B[38;5;124;03mReturns func()'s return value on success. On error retries the same\u001B[39;00m\n\u001B[1;32m   (...)\u001B[0m\n\u001B[0;32m   1434\u001B[0m \u001B[38;5;124;03mRe-raises any exception thrown by func().\u001B[39;00m\n\u001B[0;32m   1435\u001B[0m \u001B[38;5;124;03m\"\"\"\u001B[39;00m\n\u001B[0;32m   1436\u001B[0m retryable \u001B[38;5;241m=\u001B[39m (retryable \u001B[38;5;129;01mand\u001B[39;00m \u001B[38;5;28mself\u001B[39m\u001B[38;5;241m.\u001B[39mretry_writes\n\u001B[0;32m   1437\u001B[0m              \u001B[38;5;129;01mand\u001B[39;00m session \u001B[38;5;129;01mand\u001B[39;00m \u001B[38;5;129;01mnot\u001B[39;00m session\u001B[38;5;241m.\u001B[39min_transaction)\n\u001B[1;32m-> 1438\u001B[0m \u001B[38;5;28;01mreturn\u001B[39;00m \u001B[38;5;28;43mself\u001B[39;49m\u001B[38;5;241;43m.\u001B[39;49m\u001B[43m_retry_internal\u001B[49m\u001B[43m(\u001B[49m\u001B[43mretryable\u001B[49m\u001B[43m,\u001B[49m\u001B[43m \u001B[49m\u001B[43mfunc\u001B[49m\u001B[43m,\u001B[49m\u001B[43m \u001B[49m\u001B[43msession\u001B[49m\u001B[43m,\u001B[49m\u001B[43m \u001B[49m\u001B[43mbulk\u001B[49m\u001B[43m)\u001B[49m\n",
      "File \u001B[1;32m~\\.conda\\envs\\RAIS-Anonymization\\lib\\site-packages\\pymongo\\mongo_client.py:1470\u001B[0m, in \u001B[0;36mMongoClient._retry_internal\u001B[1;34m(self, retryable, func, session, bulk)\u001B[0m\n\u001B[0;32m   1468\u001B[0m                 \u001B[38;5;28;01mraise\u001B[39;00m last_error\n\u001B[0;32m   1469\u001B[0m             retryable \u001B[38;5;241m=\u001B[39m \u001B[38;5;28;01mFalse\u001B[39;00m\n\u001B[1;32m-> 1470\u001B[0m         \u001B[38;5;28;01mreturn\u001B[39;00m \u001B[43mfunc\u001B[49m\u001B[43m(\u001B[49m\u001B[43msession\u001B[49m\u001B[43m,\u001B[49m\u001B[43m \u001B[49m\u001B[43msock_info\u001B[49m\u001B[43m,\u001B[49m\u001B[43m \u001B[49m\u001B[43mretryable\u001B[49m\u001B[43m)\u001B[49m\n\u001B[0;32m   1471\u001B[0m \u001B[38;5;28;01mexcept\u001B[39;00m ServerSelectionTimeoutError:\n\u001B[0;32m   1472\u001B[0m     \u001B[38;5;28;01mif\u001B[39;00m is_retrying():\n\u001B[0;32m   1473\u001B[0m         \u001B[38;5;66;03m# The application may think the write was never attempted\u001B[39;00m\n\u001B[0;32m   1474\u001B[0m         \u001B[38;5;66;03m# if we raise ServerSelectionTimeoutError on the retry\u001B[39;00m\n\u001B[0;32m   1475\u001B[0m         \u001B[38;5;66;03m# attempt. Raise the original exception instead.\u001B[39;00m\n",
      "File \u001B[1;32m~\\.conda\\envs\\RAIS-Anonymization\\lib\\site-packages\\pymongo\\collection.py:869\u001B[0m, in \u001B[0;36mCollection._update_retryable.<locals>._update\u001B[1;34m(session, sock_info, retryable_write)\u001B[0m\n\u001B[0;32m    868\u001B[0m \u001B[38;5;28;01mdef\u001B[39;00m \u001B[38;5;21m_update\u001B[39m(session, sock_info, retryable_write):\n\u001B[1;32m--> 869\u001B[0m     \u001B[38;5;28;01mreturn\u001B[39;00m \u001B[38;5;28;43mself\u001B[39;49m\u001B[38;5;241;43m.\u001B[39;49m\u001B[43m_update\u001B[49m\u001B[43m(\u001B[49m\n\u001B[0;32m    870\u001B[0m \u001B[43m        \u001B[49m\u001B[43msock_info\u001B[49m\u001B[43m,\u001B[49m\u001B[43m \u001B[49m\u001B[43mcriteria\u001B[49m\u001B[43m,\u001B[49m\u001B[43m \u001B[49m\u001B[43mdocument\u001B[49m\u001B[43m,\u001B[49m\u001B[43m \u001B[49m\u001B[43mupsert\u001B[49m\u001B[38;5;241;43m=\u001B[39;49m\u001B[43mupsert\u001B[49m\u001B[43m,\u001B[49m\n\u001B[0;32m    871\u001B[0m \u001B[43m        \u001B[49m\u001B[43mcheck_keys\u001B[49m\u001B[38;5;241;43m=\u001B[39;49m\u001B[43mcheck_keys\u001B[49m\u001B[43m,\u001B[49m\u001B[43m \u001B[49m\u001B[43mmulti\u001B[49m\u001B[38;5;241;43m=\u001B[39;49m\u001B[43mmulti\u001B[49m\u001B[43m,\u001B[49m\u001B[43m \u001B[49m\u001B[43mmanipulate\u001B[49m\u001B[38;5;241;43m=\u001B[39;49m\u001B[43mmanipulate\u001B[49m\u001B[43m,\u001B[49m\n\u001B[0;32m    872\u001B[0m \u001B[43m        \u001B[49m\u001B[43mwrite_concern\u001B[49m\u001B[38;5;241;43m=\u001B[39;49m\u001B[43mwrite_concern\u001B[49m\u001B[43m,\u001B[49m\u001B[43m \u001B[49m\u001B[43mop_id\u001B[49m\u001B[38;5;241;43m=\u001B[39;49m\u001B[43mop_id\u001B[49m\u001B[43m,\u001B[49m\u001B[43m \u001B[49m\u001B[43mordered\u001B[49m\u001B[38;5;241;43m=\u001B[39;49m\u001B[43mordered\u001B[49m\u001B[43m,\u001B[49m\n\u001B[0;32m    873\u001B[0m \u001B[43m        \u001B[49m\u001B[43mbypass_doc_val\u001B[49m\u001B[38;5;241;43m=\u001B[39;49m\u001B[43mbypass_doc_val\u001B[49m\u001B[43m,\u001B[49m\u001B[43m \u001B[49m\u001B[43mcollation\u001B[49m\u001B[38;5;241;43m=\u001B[39;49m\u001B[43mcollation\u001B[49m\u001B[43m,\u001B[49m\n\u001B[0;32m    874\u001B[0m \u001B[43m        \u001B[49m\u001B[43marray_filters\u001B[49m\u001B[38;5;241;43m=\u001B[39;49m\u001B[43marray_filters\u001B[49m\u001B[43m,\u001B[49m\u001B[43m \u001B[49m\u001B[43mhint\u001B[49m\u001B[38;5;241;43m=\u001B[39;49m\u001B[43mhint\u001B[49m\u001B[43m,\u001B[49m\u001B[43m \u001B[49m\u001B[43msession\u001B[49m\u001B[38;5;241;43m=\u001B[39;49m\u001B[43msession\u001B[49m\u001B[43m,\u001B[49m\n\u001B[0;32m    875\u001B[0m \u001B[43m        \u001B[49m\u001B[43mretryable_write\u001B[49m\u001B[38;5;241;43m=\u001B[39;49m\u001B[43mretryable_write\u001B[49m\u001B[43m)\u001B[49m\n",
      "File \u001B[1;32m~\\.conda\\envs\\RAIS-Anonymization\\lib\\site-packages\\pymongo\\collection.py:838\u001B[0m, in \u001B[0;36mCollection._update\u001B[1;34m(self, sock_info, criteria, document, upsert, check_keys, multi, manipulate, write_concern, op_id, ordered, bypass_doc_val, collation, array_filters, hint, session, retryable_write)\u001B[0m\n\u001B[0;32m    834\u001B[0m     command[\u001B[38;5;124m'\u001B[39m\u001B[38;5;124mbypassDocumentValidation\u001B[39m\u001B[38;5;124m'\u001B[39m] \u001B[38;5;241m=\u001B[39m \u001B[38;5;28;01mTrue\u001B[39;00m\n\u001B[0;32m    836\u001B[0m \u001B[38;5;66;03m# The command result has to be published for APM unmodified\u001B[39;00m\n\u001B[0;32m    837\u001B[0m \u001B[38;5;66;03m# so we make a shallow copy here before adding updatedExisting.\u001B[39;00m\n\u001B[1;32m--> 838\u001B[0m result \u001B[38;5;241m=\u001B[39m \u001B[43msock_info\u001B[49m\u001B[38;5;241;43m.\u001B[39;49m\u001B[43mcommand\u001B[49m\u001B[43m(\u001B[49m\n\u001B[0;32m    839\u001B[0m \u001B[43m    \u001B[49m\u001B[38;5;28;43mself\u001B[39;49m\u001B[38;5;241;43m.\u001B[39;49m\u001B[43m__database\u001B[49m\u001B[38;5;241;43m.\u001B[39;49m\u001B[43mname\u001B[49m\u001B[43m,\u001B[49m\n\u001B[0;32m    840\u001B[0m \u001B[43m    \u001B[49m\u001B[43mcommand\u001B[49m\u001B[43m,\u001B[49m\n\u001B[0;32m    841\u001B[0m \u001B[43m    \u001B[49m\u001B[43mwrite_concern\u001B[49m\u001B[38;5;241;43m=\u001B[39;49m\u001B[43mwrite_concern\u001B[49m\u001B[43m,\u001B[49m\n\u001B[0;32m    842\u001B[0m \u001B[43m    \u001B[49m\u001B[43mcodec_options\u001B[49m\u001B[38;5;241;43m=\u001B[39;49m\u001B[38;5;28;43mself\u001B[39;49m\u001B[38;5;241;43m.\u001B[39;49m\u001B[43m__write_response_codec_options\u001B[49m\u001B[43m,\u001B[49m\n\u001B[0;32m    843\u001B[0m \u001B[43m    \u001B[49m\u001B[43msession\u001B[49m\u001B[38;5;241;43m=\u001B[39;49m\u001B[43msession\u001B[49m\u001B[43m,\u001B[49m\n\u001B[0;32m    844\u001B[0m \u001B[43m    \u001B[49m\u001B[43mclient\u001B[49m\u001B[38;5;241;43m=\u001B[39;49m\u001B[38;5;28;43mself\u001B[39;49m\u001B[38;5;241;43m.\u001B[39;49m\u001B[43m__database\u001B[49m\u001B[38;5;241;43m.\u001B[39;49m\u001B[43mclient\u001B[49m\u001B[43m,\u001B[49m\n\u001B[0;32m    845\u001B[0m \u001B[43m    \u001B[49m\u001B[43mretryable_write\u001B[49m\u001B[38;5;241;43m=\u001B[39;49m\u001B[43mretryable_write\u001B[49m\u001B[43m)\u001B[49m\u001B[38;5;241m.\u001B[39mcopy()\n\u001B[0;32m    846\u001B[0m _check_write_command_response(result)\n\u001B[0;32m    847\u001B[0m \u001B[38;5;66;03m# Add the updatedExisting field for compatibility.\u001B[39;00m\n",
      "File \u001B[1;32m~\\.conda\\envs\\RAIS-Anonymization\\lib\\site-packages\\pymongo\\pool.py:726\u001B[0m, in \u001B[0;36mSocketInfo.command\u001B[1;34m(self, dbname, spec, secondary_ok, read_preference, codec_options, check, allowable_errors, check_keys, read_concern, write_concern, parse_write_concern_error, collation, session, client, retryable_write, publish_events, user_fields, exhaust_allowed)\u001B[0m\n\u001B[0;32m    724\u001B[0m \u001B[38;5;66;03m# Catch socket.error, KeyboardInterrupt, etc. and close ourselves.\u001B[39;00m\n\u001B[0;32m    725\u001B[0m \u001B[38;5;28;01mexcept\u001B[39;00m \u001B[38;5;167;01mBaseException\u001B[39;00m \u001B[38;5;28;01mas\u001B[39;00m error:\n\u001B[1;32m--> 726\u001B[0m     \u001B[38;5;28;43mself\u001B[39;49m\u001B[38;5;241;43m.\u001B[39;49m\u001B[43m_raise_connection_failure\u001B[49m\u001B[43m(\u001B[49m\u001B[43merror\u001B[49m\u001B[43m)\u001B[49m\n",
      "File \u001B[1;32m~\\.conda\\envs\\RAIS-Anonymization\\lib\\site-packages\\pymongo\\pool.py:710\u001B[0m, in \u001B[0;36mSocketInfo.command\u001B[1;34m(self, dbname, spec, secondary_ok, read_preference, codec_options, check, allowable_errors, check_keys, read_concern, write_concern, parse_write_concern_error, collation, session, client, retryable_write, publish_events, user_fields, exhaust_allowed)\u001B[0m\n\u001B[0;32m    708\u001B[0m     \u001B[38;5;28mself\u001B[39m\u001B[38;5;241m.\u001B[39m_raise_if_not_writable(unacknowledged)\n\u001B[0;32m    709\u001B[0m \u001B[38;5;28;01mtry\u001B[39;00m:\n\u001B[1;32m--> 710\u001B[0m     \u001B[38;5;28;01mreturn\u001B[39;00m \u001B[43mcommand\u001B[49m\u001B[43m(\u001B[49m\u001B[38;5;28;43mself\u001B[39;49m\u001B[43m,\u001B[49m\u001B[43m \u001B[49m\u001B[43mdbname\u001B[49m\u001B[43m,\u001B[49m\u001B[43m \u001B[49m\u001B[43mspec\u001B[49m\u001B[43m,\u001B[49m\u001B[43m \u001B[49m\u001B[43msecondary_ok\u001B[49m\u001B[43m,\u001B[49m\n\u001B[0;32m    711\u001B[0m \u001B[43m                   \u001B[49m\u001B[38;5;28;43mself\u001B[39;49m\u001B[38;5;241;43m.\u001B[39;49m\u001B[43mis_mongos\u001B[49m\u001B[43m,\u001B[49m\u001B[43m \u001B[49m\u001B[43mread_preference\u001B[49m\u001B[43m,\u001B[49m\u001B[43m \u001B[49m\u001B[43mcodec_options\u001B[49m\u001B[43m,\u001B[49m\n\u001B[0;32m    712\u001B[0m \u001B[43m                   \u001B[49m\u001B[43msession\u001B[49m\u001B[43m,\u001B[49m\u001B[43m \u001B[49m\u001B[43mclient\u001B[49m\u001B[43m,\u001B[49m\u001B[43m \u001B[49m\u001B[43mcheck\u001B[49m\u001B[43m,\u001B[49m\u001B[43m \u001B[49m\u001B[43mallowable_errors\u001B[49m\u001B[43m,\u001B[49m\n\u001B[0;32m    713\u001B[0m \u001B[43m                   \u001B[49m\u001B[38;5;28;43mself\u001B[39;49m\u001B[38;5;241;43m.\u001B[39;49m\u001B[43maddress\u001B[49m\u001B[43m,\u001B[49m\u001B[43m \u001B[49m\u001B[43mcheck_keys\u001B[49m\u001B[43m,\u001B[49m\u001B[43m \u001B[49m\u001B[43mlisteners\u001B[49m\u001B[43m,\u001B[49m\n\u001B[0;32m    714\u001B[0m \u001B[43m                   \u001B[49m\u001B[38;5;28;43mself\u001B[39;49m\u001B[38;5;241;43m.\u001B[39;49m\u001B[43mmax_bson_size\u001B[49m\u001B[43m,\u001B[49m\u001B[43m \u001B[49m\u001B[43mread_concern\u001B[49m\u001B[43m,\u001B[49m\n\u001B[0;32m    715\u001B[0m \u001B[43m                   \u001B[49m\u001B[43mparse_write_concern_error\u001B[49m\u001B[38;5;241;43m=\u001B[39;49m\u001B[43mparse_write_concern_error\u001B[49m\u001B[43m,\u001B[49m\n\u001B[0;32m    716\u001B[0m \u001B[43m                   \u001B[49m\u001B[43mcollation\u001B[49m\u001B[38;5;241;43m=\u001B[39;49m\u001B[43mcollation\u001B[49m\u001B[43m,\u001B[49m\n\u001B[0;32m    717\u001B[0m \u001B[43m                   \u001B[49m\u001B[43mcompression_ctx\u001B[49m\u001B[38;5;241;43m=\u001B[39;49m\u001B[38;5;28;43mself\u001B[39;49m\u001B[38;5;241;43m.\u001B[39;49m\u001B[43mcompression_context\u001B[49m\u001B[43m,\u001B[49m\n\u001B[0;32m    718\u001B[0m \u001B[43m                   \u001B[49m\u001B[43muse_op_msg\u001B[49m\u001B[38;5;241;43m=\u001B[39;49m\u001B[38;5;28;43mself\u001B[39;49m\u001B[38;5;241;43m.\u001B[39;49m\u001B[43mop_msg_enabled\u001B[49m\u001B[43m,\u001B[49m\n\u001B[0;32m    719\u001B[0m \u001B[43m                   \u001B[49m\u001B[43munacknowledged\u001B[49m\u001B[38;5;241;43m=\u001B[39;49m\u001B[43munacknowledged\u001B[49m\u001B[43m,\u001B[49m\n\u001B[0;32m    720\u001B[0m \u001B[43m                   \u001B[49m\u001B[43muser_fields\u001B[49m\u001B[38;5;241;43m=\u001B[39;49m\u001B[43muser_fields\u001B[49m\u001B[43m,\u001B[49m\n\u001B[0;32m    721\u001B[0m \u001B[43m                   \u001B[49m\u001B[43mexhaust_allowed\u001B[49m\u001B[38;5;241;43m=\u001B[39;49m\u001B[43mexhaust_allowed\u001B[49m\u001B[43m)\u001B[49m\n\u001B[0;32m    722\u001B[0m \u001B[38;5;28;01mexcept\u001B[39;00m (OperationFailure, NotPrimaryError):\n\u001B[0;32m    723\u001B[0m     \u001B[38;5;28;01mraise\u001B[39;00m\n",
      "File \u001B[1;32m~\\.conda\\envs\\RAIS-Anonymization\\lib\\site-packages\\pymongo\\network.py:149\u001B[0m, in \u001B[0;36mcommand\u001B[1;34m(sock_info, dbname, spec, secondary_ok, is_mongos, read_preference, codec_options, session, client, check, allowable_errors, address, check_keys, listeners, max_bson_size, read_concern, parse_write_concern_error, collation, compression_ctx, use_op_msg, unacknowledged, user_fields, exhaust_allowed)\u001B[0m\n\u001B[0;32m    147\u001B[0m     response_doc \u001B[38;5;241m=\u001B[39m {\u001B[38;5;124m\"\u001B[39m\u001B[38;5;124mok\u001B[39m\u001B[38;5;124m\"\u001B[39m: \u001B[38;5;241m1\u001B[39m}\n\u001B[0;32m    148\u001B[0m \u001B[38;5;28;01melse\u001B[39;00m:\n\u001B[1;32m--> 149\u001B[0m     reply \u001B[38;5;241m=\u001B[39m \u001B[43mreceive_message\u001B[49m\u001B[43m(\u001B[49m\u001B[43msock_info\u001B[49m\u001B[43m,\u001B[49m\u001B[43m \u001B[49m\u001B[43mrequest_id\u001B[49m\u001B[43m)\u001B[49m\n\u001B[0;32m    150\u001B[0m     sock_info\u001B[38;5;241m.\u001B[39mmore_to_come \u001B[38;5;241m=\u001B[39m reply\u001B[38;5;241m.\u001B[39mmore_to_come\n\u001B[0;32m    151\u001B[0m     unpacked_docs \u001B[38;5;241m=\u001B[39m reply\u001B[38;5;241m.\u001B[39munpack_response(\n\u001B[0;32m    152\u001B[0m         codec_options\u001B[38;5;241m=\u001B[39mcodec_options, user_fields\u001B[38;5;241m=\u001B[39muser_fields)\n",
      "File \u001B[1;32m~\\.conda\\envs\\RAIS-Anonymization\\lib\\site-packages\\pymongo\\network.py:196\u001B[0m, in \u001B[0;36mreceive_message\u001B[1;34m(sock_info, request_id, max_message_size)\u001B[0m\n\u001B[0;32m    193\u001B[0m     deadline \u001B[38;5;241m=\u001B[39m \u001B[38;5;28;01mNone\u001B[39;00m\n\u001B[0;32m    194\u001B[0m \u001B[38;5;66;03m# Ignore the response's request id.\u001B[39;00m\n\u001B[0;32m    195\u001B[0m length, _, response_to, op_code \u001B[38;5;241m=\u001B[39m _UNPACK_HEADER(\n\u001B[1;32m--> 196\u001B[0m     \u001B[43m_receive_data_on_socket\u001B[49m\u001B[43m(\u001B[49m\u001B[43msock_info\u001B[49m\u001B[43m,\u001B[49m\u001B[43m \u001B[49m\u001B[38;5;241;43m16\u001B[39;49m\u001B[43m,\u001B[49m\u001B[43m \u001B[49m\u001B[43mdeadline\u001B[49m\u001B[43m)\u001B[49m)\n\u001B[0;32m    197\u001B[0m \u001B[38;5;66;03m# No request_id for exhaust cursor \"getMore\".\u001B[39;00m\n\u001B[0;32m    198\u001B[0m \u001B[38;5;28;01mif\u001B[39;00m request_id \u001B[38;5;129;01mis\u001B[39;00m \u001B[38;5;129;01mnot\u001B[39;00m \u001B[38;5;28;01mNone\u001B[39;00m:\n",
      "File \u001B[1;32m~\\.conda\\envs\\RAIS-Anonymization\\lib\\site-packages\\pymongo\\network.py:287\u001B[0m, in \u001B[0;36m_receive_data_on_socket\u001B[1;34m(sock_info, length, deadline)\u001B[0m\n\u001B[0;32m    285\u001B[0m \u001B[38;5;28;01mtry\u001B[39;00m:\n\u001B[0;32m    286\u001B[0m     wait_for_read(sock_info, deadline)\n\u001B[1;32m--> 287\u001B[0m     chunk_length \u001B[38;5;241m=\u001B[39m \u001B[43msock_info\u001B[49m\u001B[38;5;241;43m.\u001B[39;49m\u001B[43msock\u001B[49m\u001B[38;5;241;43m.\u001B[39;49m\u001B[43mrecv_into\u001B[49m\u001B[43m(\u001B[49m\u001B[43mmv\u001B[49m\u001B[43m[\u001B[49m\u001B[43mbytes_read\u001B[49m\u001B[43m:\u001B[49m\u001B[43m]\u001B[49m\u001B[43m)\u001B[49m\n\u001B[0;32m    288\u001B[0m \u001B[38;5;28;01mexcept\u001B[39;00m (\u001B[38;5;167;01mIOError\u001B[39;00m, \u001B[38;5;167;01mOSError\u001B[39;00m) \u001B[38;5;28;01mas\u001B[39;00m exc:\n\u001B[0;32m    289\u001B[0m     \u001B[38;5;28;01mif\u001B[39;00m _errno_from_exception(exc) \u001B[38;5;241m==\u001B[39m errno\u001B[38;5;241m.\u001B[39mEINTR:\n",
      "\u001B[1;31mKeyboardInterrupt\u001B[0m: "
     ]
    }
   ],
   "source": [
    "\n",
    "#1.log_time\n",
    "#convert log_time to date\n",
    "myquery = {\"data.log_time\":{\"$exists\": \"true\"}}\n",
    "newvalues = [{\"$set\" : {\"data.testdate\":{\"$toDate\":\"$data.log_time\"}}}]\n",
    "x = collection.update_many(myquery, newvalues)"
   ],
   "metadata": {
    "collapsed": false,
    "pycharm": {
     "name": "#%%\n"
    }
   }
  },
  {
   "cell_type": "code",
   "execution_count": null,
   "outputs": [],
   "source": [
    "\n",
    "#delete entries outside of experiment dates\n",
    "myquery = {\"$or\": [\n",
    "      {\"data.log_time\":{\"$exists\": \"true\"}, \"data.testdate\": {\"$lt\":from_date} },\n",
    "      { \"data.log_time\":{\"$exists\": \"true\"}, \"data.testdate\": {\"$gt\":to_date } }\n",
    "   ]}\n",
    "x = collection.delete_many(myquery)"
   ],
   "metadata": {
    "collapsed": false,
    "pycharm": {
     "name": "#%%\n"
    }
   }
  },
  {
   "cell_type": "code",
   "execution_count": null,
   "outputs": [],
   "source": [
    "\n",
    "#delete the previously added date fields\n",
    "myquery = {\"data.log_time\":{\"$exists\": \"true\"}}\n",
    "newvalues = [{\"$unset\" : [\"data.testdate\"]}]\n",
    "x = collection.update_many(myquery, newvalues)"
   ],
   "metadata": {
    "collapsed": false,
    "pycharm": {
     "name": "#%%\n"
    }
   }
  },
  {
   "cell_type": "code",
   "execution_count": null,
   "outputs": [],
   "source": [
    "\n",
    "#2.dateTime\n",
    "#convert datetime to date\n",
    "myquery = {\"data.dateTime\":{\"$exists\": \"true\"}}\n",
    "\n",
    "newvalues = [{\"$set\" : {\"data.testdate\":{\"$toDate\":\"$data.dateTime\"}}}]\n",
    "x = collection.update_many(myquery, newvalues)"
   ],
   "metadata": {
    "collapsed": false,
    "pycharm": {
     "name": "#%%\n"
    }
   }
  },
  {
   "cell_type": "code",
   "execution_count": null,
   "outputs": [],
   "source": [
    "\n",
    "#delete entries outside of experiment dates\n",
    "myquery = {\"$or\": [\n",
    "      {\"data.dateTime\":{\"$exists\": \"true\"}, \"data.testdate\": {\"$lt\":from_date} },\n",
    "      { \"data.dateTime\":{\"$exists\": \"true\"}, \"data.testdate\": {\"$gt\":to_date } }\n",
    "   ]}\n",
    "x = collection.delete_many(myquery)"
   ],
   "metadata": {
    "collapsed": false,
    "pycharm": {
     "name": "#%%\n"
    }
   }
  },
  {
   "cell_type": "code",
   "execution_count": null,
   "outputs": [],
   "source": [
    "\n",
    "#delete the previously added date fields\n",
    "myquery = {\"data.dateTime\":{\"$exists\": \"true\"}}\n",
    "newvalues = [{\"$unset\" : [\"data.testdate\"]}]\n",
    "x = collection.update_many(myquery, newvalues)"
   ],
   "metadata": {
    "collapsed": false,
    "pycharm": {
     "name": "#%%\n"
    }
   }
  },
  {
   "cell_type": "code",
   "execution_count": null,
   "outputs": [],
   "source": [
    "\n",
    "#3.startTime\n",
    "#convert startTime to date\n",
    "myquery = {\"data.startTime\":{\"$exists\": \"true\"}}\n",
    "\n",
    "newvalues = [{\"$set\" : {\"data.testdate\":{\"$toDate\":\"$data.startTime\"}}}]\n",
    "x = collection.update_many(myquery, newvalues)"
   ],
   "metadata": {
    "collapsed": false,
    "pycharm": {
     "name": "#%%\n"
    }
   }
  },
  {
   "cell_type": "code",
   "execution_count": null,
   "outputs": [],
   "source": [
    "\n",
    "#delete entries outside of experiment dates\n",
    "myquery = {\"$or\": [\n",
    "      {\"data.startTime\":{\"$exists\": \"true\"}, \"data.testdate\": {\"$lt\":from_date} },\n",
    "      { \"data.startTime\":{\"$exists\": \"true\"}, \"data.testdate\": {\"$gt\":to_date } }\n",
    "   ]}\n",
    "x = collection.delete_many(myquery)"
   ],
   "metadata": {
    "collapsed": false,
    "pycharm": {
     "name": "#%%\n"
    }
   }
  },
  {
   "cell_type": "code",
   "execution_count": null,
   "outputs": [],
   "source": [
    "\n",
    "#delete the previously added date fields\n",
    "myquery = {\"data.startTime\":{\"$exists\": \"true\"}}\n",
    "newvalues = [{\"$unset\" : [\"data.testdate\"]}]\n",
    "x = collection.update_many(myquery, newvalues)"
   ],
   "metadata": {
    "collapsed": false,
    "pycharm": {
     "name": "#%%\n"
    }
   }
  },
  {
   "cell_type": "code",
   "execution_count": null,
   "outputs": [],
   "source": [
    "\n",
    "#4.timestamp\n",
    "#convert timestamp to date\n",
    "#4.1. the milliseconds entries\n",
    "myquery = {\"data.timestamp\":{\"$exists\": \"true\"}, \"data.timestamp\":{\"$type\":[16]}}\n",
    "newvalues = [{\"$set\" : {\"data.testdate\":{\"$toDate\": { \"$multiply\": [{\"$toDouble\":\"$data.timestamp\"},1000 ] }}}}]\n",
    "\n",
    "x = collection.update_many(myquery, newvalues)"
   ],
   "metadata": {
    "collapsed": false,
    "pycharm": {
     "name": "#%%\n"
    }
   }
  },
  {
   "cell_type": "code",
   "execution_count": null,
   "outputs": [],
   "source": [
    "\n",
    "#4.2 the string entries\n",
    "myquery = {\"data.timestamp\":{\"$exists\": \"true\"}, \"data.timestamp\":{\"$type\":[2]}}\n",
    "newvalues = [{\"$set\" : {\"data.testdate\":{\"$toDate\":\"$data.timestamp\" }}}]\n",
    "\n",
    "x = collection.update_many(myquery, newvalues)"
   ],
   "metadata": {
    "collapsed": false,
    "pycharm": {
     "name": "#%%\n"
    }
   }
  },
  {
   "cell_type": "code",
   "execution_count": null,
   "outputs": [],
   "source": [
    "\n",
    "#delete entries outside of experiment dates\n",
    "myquery = {\"$or\": [\n",
    "      {\"data.timestamp\":{\"$exists\": \"true\"}, \"data.testdate\": {\"$lt\":from_date} },\n",
    "      { \"data.timestamp\":{\"$exists\": \"true\"}, \"data.testdate\": {\"$gt\":to_date } }\n",
    "   ]}\n",
    "x = collection.delete_many(myquery)"
   ],
   "metadata": {
    "collapsed": false,
    "pycharm": {
     "name": "#%%\n"
    }
   }
  },
  {
   "cell_type": "code",
   "execution_count": null,
   "outputs": [],
   "source": [
    "\n",
    "#delete the previously added date fields\n",
    "myquery = {\"data.timestamp\":{\"$exists\": \"true\"}}\n",
    "newvalues = [{\"$unset\" : [\"data.testdate\"]}]\n",
    "x = collection.update_many(myquery, newvalues)"
   ],
   "metadata": {
    "collapsed": false,
    "pycharm": {
     "name": "#%%\n"
    }
   }
  },
  {
   "cell_type": "code",
   "execution_count": null,
   "outputs": [],
   "source": [
    "\n",
    "#--------------------------------------------------------------------------------------------------------\n",
    "\n",
    "#modify a duplicate entry\n",
    "\n",
    "from bson.objectid import ObjectId\n",
    "myquery = {\"type\": \"Profile\", \"id\":ObjectId(\"621e367e67b776a24087d75d\")}\n",
    "newvalues = [{ \"$unset\": [\"data.bmi\", \"data.age\"]}]\n",
    "\n",
    "x = collection.update_many(myquery, newvalues)"
   ],
   "metadata": {
    "collapsed": false,
    "pycharm": {
     "name": "#%%\n"
    }
   }
  },
  {
   "cell_type": "code",
   "execution_count": null,
   "outputs": [],
   "source": [
    "\n",
    "#4. reading_time\n",
    "#convert reading_time to date\n",
    "myquery = {\"data.reading_time\":{\"$exists\": \"true\"}}\n",
    "newvalues = [{\"$set\" : {\"data.testdate\":{\"$toDate\":\"$data.reading_time\"}}}]\n",
    "x = collection.update_many(myquery, newvalues)"
   ],
   "metadata": {
    "collapsed": false,
    "pycharm": {
     "name": "#%%\n"
    }
   }
  },
  {
   "cell_type": "code",
   "execution_count": null,
   "outputs": [],
   "source": [
    "\n",
    "#delete entries outside of experiment dates\n",
    "myquery = {\"$or\": [\n",
    "      {\"data.reading_time\":{\"$exists\": \"true\"}, \"data.testdate\": {\"$lt\":from_date} },\n",
    "      { \"data.reading_time\":{\"$exists\": \"true\"}, \"data.testdate\": {\"$gt\":to_date } }\n",
    "   ]}\n",
    "x = collection.delete_many(myquery)"
   ],
   "metadata": {
    "collapsed": false,
    "pycharm": {
     "name": "#%%\n"
    }
   }
  },
  {
   "cell_type": "code",
   "execution_count": null,
   "outputs": [],
   "source": [
    "\n",
    "#delete the previously added date fields\n",
    "myquery = {\"data.reading_time\":{\"$exists\": \"true\"}}\n",
    "newvalues = [{\"$unset\" : [\"data.testdate\"]}]\n",
    "x = collection.update_many(myquery, newvalues)"
   ],
   "metadata": {
    "collapsed": false,
    "pycharm": {
     "name": "#%%\n"
    }
   }
  },
  {
   "cell_type": "code",
   "execution_count": null,
   "outputs": [],
   "source": [
    "\n",
    "#5. sleep_start\n",
    "#convert sleep_start to date\n",
    "myquery = {\"data.sleep_start\":{\"$exists\": \"true\"}}\n",
    "newvalues = [{\"$set\" : {\"data.testdate\":{\"$toDate\":\"$data.sleep_start\"}}}]\n",
    "x = collection.update_many(myquery, newvalues)"
   ],
   "metadata": {
    "collapsed": false,
    "pycharm": {
     "name": "#%%\n"
    }
   }
  },
  {
   "cell_type": "code",
   "execution_count": null,
   "outputs": [],
   "source": [
    "\n",
    "#delete entries outside of experiment dates\n",
    "myquery = {\"$or\": [\n",
    "      {\"data.sleep_start\":{\"$exists\": \"true\"}, \"data.testdate\": {\"$lt\":from_date} },\n",
    "      { \"data.sleep_start\":{\"$exists\": \"true\"}, \"data.testdate\": {\"$gt\":to_date } }\n",
    "   ]}\n",
    "x = collection.delete_many(myquery)"
   ],
   "metadata": {
    "collapsed": false,
    "pycharm": {
     "name": "#%%\n"
    }
   }
  },
  {
   "cell_type": "code",
   "execution_count": null,
   "outputs": [],
   "source": [
    "\n",
    "#delete the previously added date fields\n",
    "myquery = {\"data.sleep_start\":{\"$exists\": \"true\"}}\n",
    "newvalues = [{\"$unset\" : [\"data.testdate\"]}]\n",
    "x = collection.update_many(myquery, newvalues)"
   ],
   "metadata": {
    "collapsed": false,
    "pycharm": {
     "name": "#%%\n"
    }
   }
  },
  {
   "cell_type": "code",
   "execution_count": null,
   "outputs": [],
   "source": [
    "\n",
    "#6. recorded_time\n",
    "#convert recorded_time to date\n",
    "myquery = {\"data.recorded_time\":{\"$exists\": \"true\"}}\n",
    "newvalues = [{\"$set\" : {\"data.testdate\":{\"$toDate\":\"$data.recorded_time\"}}}]\n",
    "x = collection.update_many(myquery, newvalues)"
   ],
   "metadata": {
    "collapsed": false,
    "pycharm": {
     "name": "#%%\n"
    }
   }
  },
  {
   "cell_type": "code",
   "execution_count": null,
   "outputs": [],
   "source": [
    "#delete entries outside of experiment dates\n",
    "myquery = {\"$or\": [\n",
    "      {\"data.recorded_time\":{\"$exists\": \"true\"}, \"data.testdate\": {\"$lt\":from_date} },\n",
    "      { \"data.recorded_time\":{\"$exists\": \"true\"}, \"data.testdate\": {\"$gt\":to_date } }\n",
    "   ]}\n",
    "x = collection.delete_many(myquery)"
   ],
   "metadata": {
    "collapsed": false,
    "pycharm": {
     "name": "#%%\n"
    }
   }
  },
  {
   "cell_type": "code",
   "execution_count": null,
   "outputs": [],
   "source": [
    "#delete the previously added date fields\n",
    "myquery = {\"data.recorded_time\":{\"$exists\": \"true\"}}\n",
    "newvalues = [{\"$unset\" : [\"data.testdate\"]}]\n",
    "x = collection.update_many(myquery, newvalues)"
   ],
   "metadata": {
    "collapsed": false,
    "pycharm": {
     "name": "#%%\n"
    }
   }
  },
  {
   "cell_type": "code",
   "execution_count": null,
   "outputs": [],
   "source": [
    "#7. DATE\n",
    "#convert DATE to date\n",
    "myquery = {\"data.DATE\":{\"$exists\": \"true\"}}\n",
    "newvalues = [{\"$set\" : {\"data.testdate\":{\"$toDate\":\"$data.DATE\"}}}]\n",
    "x = collection.update_many(myquery, newvalues)"
   ],
   "metadata": {
    "collapsed": false,
    "pycharm": {
     "name": "#%%\n"
    }
   }
  },
  {
   "cell_type": "code",
   "execution_count": null,
   "outputs": [],
   "source": [
    "#delete entries outside of experiment dates\n",
    "myquery = {\"$or\": [\n",
    "      {\"data.DATE\":{\"$exists\": \"true\"}, \"data.testdate\": {\"$lt\":from_date} },\n",
    "      { \"data.DATE\":{\"$exists\": \"true\"}, \"data.testdate\": {\"$gt\":to_date } }\n",
    "   ]}\n",
    "x = collection.delete_many(myquery)"
   ],
   "metadata": {
    "collapsed": false,
    "pycharm": {
     "name": "#%%\n"
    }
   }
  },
  {
   "cell_type": "code",
   "execution_count": null,
   "outputs": [],
   "source": [
    "#delete the previously added date fields\n",
    "myquery = {\"data.DATE\":{\"$exists\": \"true\"}}\n",
    "newvalues = [{\"$unset\" : [\"data.testdate\"]}]\n",
    "x = collection.update_many(myquery, newvalues)"
   ],
   "metadata": {
    "collapsed": false,
    "pycharm": {
     "name": "#%%\n"
    }
   }
  },
  {
   "cell_type": "code",
   "execution_count": null,
   "outputs": [],
   "source": [
    "#8. date\n",
    "#convert date to date\n",
    "myquery = {\"data.date\":{\"$exists\": \"true\"}}\n",
    "newvalues = [{\"$set\" : {\"data.testdate\":{\"$toDate\":\"$data.date\"}}}]\n",
    "x = collection.update_many(myquery, newvalues)"
   ],
   "metadata": {
    "collapsed": false,
    "pycharm": {
     "name": "#%%\n"
    }
   }
  },
  {
   "cell_type": "code",
   "execution_count": null,
   "outputs": [],
   "source": [
    "#delete entries outside of experiment dates\n",
    "myquery = {\"$or\": [\n",
    "      {\"data.date\":{\"$exists\": \"true\"}, \"data.testdate\": {\"$lt\":from_date} },\n",
    "      { \"data.date\":{\"$exists\": \"true\"}, \"data.testdate\": {\"$gt\":to_date } }\n",
    "   ]}\n",
    "x = collection.delete_many(myquery)"
   ],
   "metadata": {
    "collapsed": false,
    "pycharm": {
     "name": "#%%\n"
    }
   }
  },
  {
   "cell_type": "code",
   "execution_count": null,
   "outputs": [],
   "source": [
    "#delete the previously added date fields\n",
    "myquery = {\"data.date\":{\"$exists\": \"true\"}}\n",
    "newvalues = [{\"$unset\" : [\"data.testdate\"]}]\n",
    "x = collection.update_many(myquery, newvalues)"
   ],
   "metadata": {
    "collapsed": false,
    "pycharm": {
     "name": "#%%\n"
    }
   }
  },
  {
   "cell_type": "code",
   "execution_count": null,
   "outputs": [],
   "source": [
    "#9. start_date_time\n",
    "#convert start_date_time to date\n",
    "myquery = {\"data.start_date_time\":{\"$exists\": \"true\"}}\n",
    "newvalues = [{\"$set\" : {\"data.testdate\":{\"$toDate\":\"$data.start_date_time\"}}}]\n",
    "x = collection.update_many(myquery, newvalues)"
   ],
   "metadata": {
    "collapsed": false,
    "pycharm": {
     "name": "#%%\n"
    }
   }
  },
  {
   "cell_type": "code",
   "execution_count": null,
   "outputs": [],
   "source": [
    "#delete entries outside of experiment dates\n",
    "myquery = {\"$or\": [\n",
    "      {\"data.start_date_time\":{\"$exists\": \"true\"}, \"data.testdate\": {\"$lt\":from_date} },\n",
    "      { \"data.start_date_time\":{\"$exists\": \"true\"}, \"data.testdate\": {\"$gt\":to_date } }\n",
    "   ]}\n",
    "x = collection.delete_many(myquery)"
   ],
   "metadata": {
    "collapsed": false,
    "pycharm": {
     "name": "#%%\n"
    }
   }
  },
  {
   "cell_type": "code",
   "execution_count": null,
   "outputs": [],
   "source": [
    "#delete the previously added date fields\n",
    "myquery = {\"data.start_date_time\":{\"$exists\": \"true\"}}\n",
    "newvalues = [{\"$unset\" : [\"data.testdate\"]}]\n",
    "x = collection.update_many(myquery, newvalues)"
   ],
   "metadata": {
    "collapsed": false,
    "pycharm": {
     "name": "#%%\n"
    }
   }
  },
  {
   "cell_type": "code",
   "execution_count": null,
   "outputs": [],
   "source": [
    "# clean unnecessary types\n",
    "#1. swim_lengths_data\n",
    "#2. height\n",
    "myquery = {\"type\":\"swim_lengths_data\"}\n",
    "x = collection.delete_many(myquery)\n",
    "myquery = {\"type\":\"height\"}\n",
    "x = collection.delete_many(myquery)\n",
    "#--------------------------------------------------------------------------------------------------------"
   ],
   "metadata": {
    "collapsed": false,
    "pycharm": {
     "name": "#%%\n"
    }
   }
  }
 ],
 "metadata": {
  "kernelspec": {
   "display_name": "Python 3",
   "language": "python",
   "name": "python3"
  },
  "language_info": {
   "codemirror_mode": {
    "name": "ipython",
    "version": 2
   },
   "file_extension": ".py",
   "mimetype": "text/x-python",
   "name": "python",
   "nbconvert_exporter": "python",
   "pygments_lexer": "ipython2",
   "version": "2.7.6"
  }
 },
 "nbformat": 4,
 "nbformat_minor": 0
}