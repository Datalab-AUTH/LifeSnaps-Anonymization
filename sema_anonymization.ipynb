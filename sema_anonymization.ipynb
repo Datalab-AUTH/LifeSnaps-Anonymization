{
 "cells": [
  {
   "cell_type": "code",
   "execution_count": 1,
   "outputs": [],
   "source": [
    "#Load Database in Pymongo\n",
    "\n",
    "import pymongo\n",
    "\n",
    "client = pymongo.MongoClient(\"localhost\", 27017)\n",
    "database = client['rais_anonymized']\n",
    "collection = database['sema']"
   ],
   "metadata": {
    "collapsed": false,
    "pycharm": {
     "name": "#%%\n"
    }
   }
  },
  {
   "cell_type": "code",
   "execution_count": 2,
   "outputs": [],
   "source": [
    "# delete unnecessary  fields\n",
    "myquery = {}\n",
    "newvalues = [{ \"$unset\": [\"data.PARTICIPANT_TZ\", \"data.EXPORT_TZ\"]}]\n",
    "x = collection.update_many(myquery, newvalues)"
   ],
   "metadata": {
    "collapsed": false,
    "pycharm": {
     "name": "#%%\n"
    }
   }
  },
  {
   "cell_type": "code",
   "execution_count": 2,
   "outputs": [],
   "source": [
    "# change survey name for uniformity\n",
    "myquery = {\"data.SURVEY_NAME\": \"Step Goals Survey\"}\n",
    "newvalue = [{\"$set\": {\"data.SURVEY_NAME\": \"Step Goal Survey\"}}]\n",
    "x = collection.update_many(myquery, newvalue)"
   ],
   "metadata": {
    "collapsed": false,
    "pycharm": {
     "name": "#%%\n"
    }
   }
  },
  {
   "cell_type": "code",
   "execution_count": 3,
   "outputs": [],
   "source": [
    "# delete field names from old app versions\n",
    "myquery = {}\n",
    "newvalues = [{ \"$unset\": [\"data.MOOD_JOY\", \"data.MOOD_ANGER\", \"data.MOOD_FEAR\", \"data.MOOD_SADNESS\", \"data.MOOD_SURPRISE\", \"data.MOOD_NEUTRAL\", \"data.MOOD_DISGUST\", \"data.EMOTIONS_ANGER\", \"data.EMOTIONS_DISGUST\", \"data.EMOTIONS_FEAR\", \"data.EMOTIONS_JOY\", \"data.EMOTIONS_SADNESS\", \"data.EMOTIONS_SURPRISE\", \"data.EMOTIONS_NEUTRAL\", \"data.EMOTIONS_RT\", \"data.HAPPY\", \"data.HAPPY_RT\", \"data.SAD\", \"data.SAD_RT\", \"data.STEP_GOAL\", \"data.STEP_GOAL_RT\", \"data.STEP_GOAL_VALUE\"]}]\n",
    "x = collection.update_many(myquery, newvalues)"
   ],
   "metadata": {
    "collapsed": false,
    "pycharm": {
     "name": "#%%\n"
    }
   }
  },
  {
   "cell_type": "code",
   "execution_count": null,
   "outputs": [],
   "source": [],
   "metadata": {
    "collapsed": false,
    "pycharm": {
     "name": "#%%\n"
    }
   }
  }
 ],
 "metadata": {
  "kernelspec": {
   "display_name": "Python 3",
   "language": "python",
   "name": "python3"
  },
  "language_info": {
   "codemirror_mode": {
    "name": "ipython",
    "version": 2
   },
   "file_extension": ".py",
   "mimetype": "text/x-python",
   "name": "python",
   "nbconvert_exporter": "python",
   "pygments_lexer": "ipython2",
   "version": "2.7.6"
  }
 },
 "nbformat": 4,
 "nbformat_minor": 0
}