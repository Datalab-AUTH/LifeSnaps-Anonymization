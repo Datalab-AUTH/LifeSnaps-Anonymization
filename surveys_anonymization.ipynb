{
 "cells": [
  {
   "cell_type": "code",
   "execution_count": 1,
   "outputs": [],
   "source": [
    "#Load Database in Pymongo\n",
    "\n",
    "import pymongo\n",
    "\n",
    "client = pymongo.MongoClient(\"localhost\", 27017)\n",
    "database = client['rais_anonymized']\n",
    "collection = database['surveys']"
   ],
   "metadata": {
    "collapsed": false,
    "pycharm": {
     "name": "#%%\n"
    }
   }
  },
  {
   "cell_type": "code",
   "execution_count": 3,
   "outputs": [],
   "source": [
    "# delete parq survey\n",
    "x = collection.delete_many({\"type\":\"parq\"})"
   ],
   "metadata": {
    "collapsed": false,
    "pycharm": {
     "name": "#%%\n"
    }
   }
  },
  {
   "cell_type": "code",
   "execution_count": 10,
   "outputs": [],
   "source": [
    "# delete demographics (dq) fields\n",
    "myquery = {\"type\": \"dq\"}\n",
    "newvalues = [{ \"$unset\": [\"data.gender\", \"data.gender[other]\", \"data.age\", \"data.ethnicity\", \"data.city\", \"data.education\", \"data.education[other]\", \"data.born\", \"data.born[other]\"]}]\n",
    "x = collection.update_many(myquery, newvalues)"
   ],
   "metadata": {
    "collapsed": false,
    "pycharm": {
     "name": "#%%\n"
    }
   }
  },
  {
   "cell_type": "code",
   "execution_count": 5,
   "outputs": [],
   "source": [
    "# delete data.startlanguage and email (sensitive)\n",
    "myquery = {}\n",
    "newvalues = [{ \"$unset\": [\"data.startlanguage\", \"data.email\"]}]\n",
    "x = collection.update_many(myquery, newvalues)"
   ],
   "metadata": {
    "collapsed": false,
    "pycharm": {
     "name": "#%%\n"
    }
   }
  },
  {
   "cell_type": "code",
   "execution_count": 11,
   "outputs": [],
   "source": [
    "# delete unnecessary  fields\n",
    "myquery = {}\n",
    "newvalues = [{ \"$unset\": [\"data.lastpage\", \"data.seed\"]}]\n",
    "x = collection.update_many(myquery, newvalues)"
   ],
   "metadata": {
    "collapsed": false,
    "pycharm": {
     "name": "#%%\n"
    }
   }
  },
  {
   "cell_type": "code",
   "execution_count": null,
   "outputs": [],
   "source": [],
   "metadata": {
    "collapsed": false,
    "pycharm": {
     "name": "#%%\n"
    }
   }
  }
 ],
 "metadata": {
  "kernelspec": {
   "display_name": "Python 3",
   "language": "python",
   "name": "python3"
  },
  "language_info": {
   "codemirror_mode": {
    "name": "ipython",
    "version": 2
   },
   "file_extension": ".py",
   "mimetype": "text/x-python",
   "name": "python",
   "nbconvert_exporter": "python",
   "pygments_lexer": "ipython2",
   "version": "2.7.6"
  }
 },
 "nbformat": 4,
 "nbformat_minor": 0
}